{
 "cells": [
  {
   "cell_type": "markdown",
   "metadata": {},
   "source": [
    "# Bonus: Sentiment Classifier counting neutral cases (multiclass)\n",
    "\n",
    "This repeats the previous notebook for using 3 classes instead of 2 (we include the neutral cases)."
   ]
  },
  {
   "cell_type": "code",
   "execution_count": 1,
   "metadata": {},
   "outputs": [],
   "source": [
    "%reload_ext autoreload\n",
    "%autoreload 2\n",
    "%matplotlib inline"
   ]
  },
  {
   "cell_type": "code",
   "execution_count": 2,
   "metadata": {},
   "outputs": [],
   "source": [
    "from fastai.text import *\n",
    "import my_utils"
   ]
  },
  {
   "cell_type": "markdown",
   "metadata": {},
   "source": [
    "Having already trained the language model, it is time to use it for the actual task!"
   ]
  },
  {
   "cell_type": "code",
   "execution_count": 3,
   "metadata": {},
   "outputs": [],
   "source": [
    "VERSION = 'v2'\n",
    "\n",
    "DATA_PATH = 'data/%s/' % VERSION\n",
    "\n",
    "import os\n",
    "os.makedirs(DATA_PATH, exist_ok=True)"
   ]
  },
  {
   "cell_type": "markdown",
   "metadata": {},
   "source": [
    "## Loading the dataset\n",
    "\n",
    "We will load the already pre-processed text data. However for the classification task, we only care about the strongly positive and negative examples, so we will filter out the neutral ones."
   ]
  },
  {
   "cell_type": "code",
   "execution_count": 4,
   "metadata": {},
   "outputs": [
    {
     "data": {
      "text/html": [
       "<div>\n",
       "<style scoped>\n",
       "    .dataframe tbody tr th:only-of-type {\n",
       "        vertical-align: middle;\n",
       "    }\n",
       "\n",
       "    .dataframe tbody tr th {\n",
       "        vertical-align: top;\n",
       "    }\n",
       "\n",
       "    .dataframe thead th {\n",
       "        text-align: right;\n",
       "    }\n",
       "</style>\n",
       "<table border=\"1\" class=\"dataframe\">\n",
       "  <thead>\n",
       "    <tr style=\"text-align: right;\">\n",
       "      <th></th>\n",
       "      <th>text</th>\n",
       "    </tr>\n",
       "    <tr>\n",
       "      <th>sentiment</th>\n",
       "      <th></th>\n",
       "    </tr>\n",
       "  </thead>\n",
       "  <tbody>\n",
       "    <tr>\n",
       "      <th>negative</th>\n",
       "      <td>9178</td>\n",
       "    </tr>\n",
       "    <tr>\n",
       "      <th>neutral</th>\n",
       "      <td>3099</td>\n",
       "    </tr>\n",
       "    <tr>\n",
       "      <th>positive</th>\n",
       "      <td>2363</td>\n",
       "    </tr>\n",
       "  </tbody>\n",
       "</table>\n",
       "</div>"
      ],
      "text/plain": [
       "           text\n",
       "sentiment      \n",
       "negative   9178\n",
       "neutral    3099\n",
       "positive   2363"
      ]
     },
     "execution_count": 4,
     "metadata": {},
     "output_type": "execute_result"
    }
   ],
   "source": [
    "with open('data/lm/tweet_data.pkl', 'rb') as f:\n",
    "    df = pickle.load(f)\n",
    "\n",
    "df.groupby('sentiment').count()"
   ]
  },
  {
   "cell_type": "markdown",
   "metadata": {},
   "source": [
    "But in this cases, we keep the neutral labels..."
   ]
  },
  {
   "cell_type": "code",
   "execution_count": 36,
   "metadata": {},
   "outputs": [],
   "source": [
    "df_labeled = df"
   ]
  },
  {
   "cell_type": "code",
   "execution_count": 6,
   "metadata": {},
   "outputs": [
    {
     "data": {
      "text/html": [
       "<div>\n",
       "<style scoped>\n",
       "    .dataframe tbody tr th:only-of-type {\n",
       "        vertical-align: middle;\n",
       "    }\n",
       "\n",
       "    .dataframe tbody tr th {\n",
       "        vertical-align: top;\n",
       "    }\n",
       "\n",
       "    .dataframe thead th {\n",
       "        text-align: right;\n",
       "    }\n",
       "</style>\n",
       "<table border=\"1\" class=\"dataframe\">\n",
       "  <thead>\n",
       "    <tr style=\"text-align: right;\">\n",
       "      <th></th>\n",
       "      <th>text</th>\n",
       "      <th>sentiment</th>\n",
       "    </tr>\n",
       "  </thead>\n",
       "  <tbody>\n",
       "    <tr>\n",
       "      <th>0</th>\n",
       "      <td>What xxhan said .</td>\n",
       "      <td>neutral</td>\n",
       "    </tr>\n",
       "    <tr>\n",
       "      <th>1</th>\n",
       "      <td>plus you've added commercials to the experienc...</td>\n",
       "      <td>positive</td>\n",
       "    </tr>\n",
       "    <tr>\n",
       "      <th>2</th>\n",
       "      <td>I didn't today ... Must mean I need to take an...</td>\n",
       "      <td>neutral</td>\n",
       "    </tr>\n",
       "    <tr>\n",
       "      <th>3</th>\n",
       "      <td>it's really aggressive to blast obnoxious \" en...</td>\n",
       "      <td>negative</td>\n",
       "    </tr>\n",
       "    <tr>\n",
       "      <th>4</th>\n",
       "      <td>and it's a really big bad thing about it</td>\n",
       "      <td>negative</td>\n",
       "    </tr>\n",
       "    <tr>\n",
       "      <th>5</th>\n",
       "      <td>seriously would pay $ 30 a flight for seats th...</td>\n",
       "      <td>negative</td>\n",
       "    </tr>\n",
       "    <tr>\n",
       "      <th>6</th>\n",
       "      <td>yes , nearly every time I fly VX this “ ear wo...</td>\n",
       "      <td>positive</td>\n",
       "    </tr>\n",
       "    <tr>\n",
       "      <th>7</th>\n",
       "      <td>Really missed a prime opportunity for Men With...</td>\n",
       "      <td>neutral</td>\n",
       "    </tr>\n",
       "    <tr>\n",
       "      <th>8</th>\n",
       "      <td>Well , I didn't … but NOW I DO ! :-D</td>\n",
       "      <td>positive</td>\n",
       "    </tr>\n",
       "    <tr>\n",
       "      <th>9</th>\n",
       "      <td>it was amazing , and arrived an hour early . Y...</td>\n",
       "      <td>positive</td>\n",
       "    </tr>\n",
       "  </tbody>\n",
       "</table>\n",
       "</div>"
      ],
      "text/plain": [
       "                                                text sentiment\n",
       "0                                  What xxhan said .   neutral\n",
       "1  plus you've added commercials to the experienc...  positive\n",
       "2  I didn't today ... Must mean I need to take an...   neutral\n",
       "3  it's really aggressive to blast obnoxious \" en...  negative\n",
       "4           and it's a really big bad thing about it  negative\n",
       "5  seriously would pay $ 30 a flight for seats th...  negative\n",
       "6  yes , nearly every time I fly VX this “ ear wo...  positive\n",
       "7  Really missed a prime opportunity for Men With...   neutral\n",
       "8               Well , I didn't … but NOW I DO ! :-D  positive\n",
       "9  it was amazing , and arrived an hour early . Y...  positive"
      ]
     },
     "execution_count": 6,
     "metadata": {},
     "output_type": "execute_result"
    }
   ],
   "source": [
    "df_labeled.head(10)"
   ]
  },
  {
   "cell_type": "markdown",
   "metadata": {},
   "source": [
    "In order to have reproducible results, I will set a fixed random seed, and set the number of workers to 1, as suggested in the [documentation](https://docs.fast.ai/dev/test.html#getting-reproducible-results)."
   ]
  },
  {
   "cell_type": "code",
   "execution_count": 7,
   "metadata": {},
   "outputs": [],
   "source": [
    "my_utils.set_all_seeds(123)"
   ]
  },
  {
   "cell_type": "markdown",
   "metadata": {},
   "source": [
    "Let's create the DataBunch for the classification task:"
   ]
  },
  {
   "cell_type": "code",
   "execution_count": 8,
   "metadata": {},
   "outputs": [],
   "source": [
    "bs = 48\n",
    "\n",
    "data_lm = load_data(path='data/lm', file='data_lm.pkl')\n",
    "\n",
    "data_clas = (TextList.from_df(df_labeled, cols=['text'], vocab=data_lm.vocab, path=DATA_PATH)\n",
    "           .split_by_rand_pct(valid_pct=0.1, seed=0)\n",
    "           .label_from_df(cols='sentiment')\n",
    "           .databunch(bs=bs, num_workers=1))\n",
    "\n",
    "data_clas.save('data_clas.pkl')"
   ]
  },
  {
   "cell_type": "code",
   "execution_count": 9,
   "metadata": {
    "scrolled": false
   },
   "outputs": [
    {
     "data": {
      "text/html": [
       "<table border=\"1\" class=\"dataframe\">\n",
       "  <thead>\n",
       "    <tr style=\"text-align: right;\">\n",
       "      <th>text</th>\n",
       "      <th>target</th>\n",
       "    </tr>\n",
       "  </thead>\n",
       "  <tbody>\n",
       "    <tr>\n",
       "      <td>xxbos xxmaj hi have a question re future xxmaj flight xxmaj booking xxmaj problems . xxup dub - xxup jac 29 / 9 xxup jac - xxup lax 8 / 10 xxup lax - xxup dub 13 / 10 . i 'm * g . xxmaj what is checked bag allowance for xxup jac - xxup lax ?</td>\n",
       "      <td>neutral</td>\n",
       "    </tr>\n",
       "    <tr>\n",
       "      <td>xxbos e xxrep 4 y ! xxmaj cancelled xxmaj flightlations , xxmaj flight xxmaj booking xxmaj problemss , reflight xxmaj booking xxmaj problemss , but y' all got me on the same flight out tonight ( not tomorrow ) &amp; the xxup fc upgrade . xxmaj thx !</td>\n",
       "      <td>positive</td>\n",
       "    </tr>\n",
       "    <tr>\n",
       "      <td>xxbos xxmaj well , xxmaj it 's xxup la and then a 2hr + car ride to a dark xxmaj palm xxmaj springs technically . xxmaj maybe i 'll get bumped to 1st class xxmaj den to xxup phl on xxmaj friday :)</td>\n",
       "      <td>neutral</td>\n",
       "    </tr>\n",
       "    <tr>\n",
       "      <td>xxbos xxmaj she 👏 wo n't 👏 be 👏 at 👏 my 👏 wedding 👏 . xxmaj this is an xxunk xxunk . xxmaj there 's no reflight xxmaj booking xxmaj problems . xxmaj how can we be xxunk for this ?</td>\n",
       "      <td>negative</td>\n",
       "    </tr>\n",
       "    <tr>\n",
       "      <td>xxbos . xxhan xxmaj alright prove it : ( 1 / 3 ) 3 days ago , i sat on a plane at xxup jfk for 3 hrs , deplaned for 3 more , and when i re - boarded ...</td>\n",
       "      <td>negative</td>\n",
       "    </tr>\n",
       "    <tr>\n",
       "      <td>xxbos xxunk xxup ewr - xxup dfw is now stopping xxup bna to refuel 4 bad weather ? xxmaj are xxup you just trying to get the plane closer 2 xxup dfw then xxmaj cancelled xxmaj flight on us ?</td>\n",
       "      <td>negative</td>\n",
       "    </tr>\n",
       "    <tr>\n",
       "      <td>xxbos my itinerary was from xxup ewr xxup to xxup dallas to xxup la . xxmaj you xxmaj cancelled xxmaj flightled my flight , you have my money , find a way to get me there from xxup ewr</td>\n",
       "      <td>negative</td>\n",
       "    </tr>\n",
       "    <tr>\n",
       "      <td>xxbos xxmaj been a member since xxunk . xxmaj looking to travel next week 2 / xxunk 2 / 27 . xxmaj could n't book right away due to all the snow ; i 'm in xxup bos .</td>\n",
       "      <td>negative</td>\n",
       "    </tr>\n",
       "    <tr>\n",
       "      <td>xxbos looks like i have . xxmaj best i can hope for i guess . xxmaj it 's on us air , so i do n't think i 'll get miles on xxmaj alaska . xxmaj which sucks .</td>\n",
       "      <td>negative</td>\n",
       "    </tr>\n",
       "    <tr>\n",
       "      <td>xxbos on hold for 30 mins placed on hold then hung up on 2nd time in 2 days xxmaj only looking for group rates . xxup bos - xxup sju 5 - 12 to 5 - 19 10 people</td>\n",
       "      <td>negative</td>\n",
       "    </tr>\n",
       "  </tbody>\n",
       "</table>"
      ],
      "text/plain": [
       "<IPython.core.display.HTML object>"
      ]
     },
     "metadata": {},
     "output_type": "display_data"
    }
   ],
   "source": [
    "# show a few examples\n",
    "data_clas.show_batch(10)"
   ]
  },
  {
   "cell_type": "markdown",
   "metadata": {},
   "source": [
    "Let's finally create the classifier, that will take the already fine-tuned encoder from the previous part."
   ]
  },
  {
   "cell_type": "code",
   "execution_count": 10,
   "metadata": {},
   "outputs": [],
   "source": [
    "def initialize_text_classifier():\n",
    "    learn = text_classifier_learner(data_clas, AWD_LSTM, drop_mult=0.5, path=DATA_PATH)\n",
    "    # a trick to be able to load from another folder...\n",
    "    learn.path = Path('data/lm')\n",
    "    learn.load_encoder('fine_tuned_enc')\n",
    "    learn.path = Path(DATA_PATH)\n",
    "    return learn"
   ]
  },
  {
   "cell_type": "code",
   "execution_count": 11,
   "metadata": {},
   "outputs": [],
   "source": [
    "learn = initialize_text_classifier()"
   ]
  },
  {
   "cell_type": "code",
   "execution_count": 12,
   "metadata": {},
   "outputs": [
    {
     "data": {
      "text/html": [],
      "text/plain": [
       "<IPython.core.display.HTML object>"
      ]
     },
     "metadata": {},
     "output_type": "display_data"
    },
    {
     "name": "stdout",
     "output_type": "stream",
     "text": [
      "LR Finder is complete, type {learner_name}.recorder.plot() to see the graph.\n"
     ]
    }
   ],
   "source": [
    "learn.lr_find()"
   ]
  },
  {
   "cell_type": "code",
   "execution_count": 13,
   "metadata": {},
   "outputs": [
    {
     "name": "stdout",
     "output_type": "stream",
     "text": [
      "Min numerical gradient: 2.29E-02\n",
      "Min loss divided by 10: 3.02E-02\n"
     ]
    },
    {
     "data": {
      "image/png": "[encoded data removed]",
      "text/plain": [
       "<Figure size 432x288 with 1 Axes>"
      ]
     },
     "metadata": {
      "needs_background": "light"
     },
     "output_type": "display_data"
    }
   ],
   "source": [
    "learn.recorder.plot(suggestion=True)"
   ]
  },
  {
   "cell_type": "code",
   "execution_count": 14,
   "metadata": {},
   "outputs": [
    {
     "data": {
      "text/html": [
       "<table border=\"1\" class=\"dataframe\">\n",
       "  <thead>\n",
       "    <tr style=\"text-align: left;\">\n",
       "      <th>epoch</th>\n",
       "      <th>train_loss</th>\n",
       "      <th>valid_loss</th>\n",
       "      <th>accuracy</th>\n",
       "      <th>time</th>\n",
       "    </tr>\n",
       "  </thead>\n",
       "  <tbody>\n",
       "    <tr>\n",
       "      <td>0</td>\n",
       "      <td>0.654109</td>\n",
       "      <td>0.524656</td>\n",
       "      <td>0.790301</td>\n",
       "      <td>00:08</td>\n",
       "    </tr>\n",
       "  </tbody>\n",
       "</table>"
      ],
      "text/plain": [
       "<IPython.core.display.HTML object>"
      ]
     },
     "metadata": {},
     "output_type": "display_data"
    }
   ],
   "source": [
    "alpha = 1e-2\n",
    "learn.fit_one_cycle(1, alpha, moms=(0.8,0.7))"
   ]
  },
  {
   "cell_type": "code",
   "execution_count": 15,
   "metadata": {},
   "outputs": [],
   "source": [
    "learn.save('first')\n",
    "learn.load('first');"
   ]
  },
  {
   "cell_type": "markdown",
   "metadata": {},
   "source": [
    "From here on, we start to gradually unfreeze the layers and re-train the network, following the findings of the paper."
   ]
  },
  {
   "cell_type": "code",
   "execution_count": 16,
   "metadata": {
    "scrolled": true
   },
   "outputs": [
    {
     "data": {
      "text/html": [
       "<table border=\"1\" class=\"dataframe\">\n",
       "  <thead>\n",
       "    <tr style=\"text-align: left;\">\n",
       "      <th>epoch</th>\n",
       "      <th>train_loss</th>\n",
       "      <th>valid_loss</th>\n",
       "      <th>accuracy</th>\n",
       "      <th>time</th>\n",
       "    </tr>\n",
       "  </thead>\n",
       "  <tbody>\n",
       "    <tr>\n",
       "      <td>0</td>\n",
       "      <td>0.614223</td>\n",
       "      <td>0.486181</td>\n",
       "      <td>0.813525</td>\n",
       "      <td>00:09</td>\n",
       "    </tr>\n",
       "  </tbody>\n",
       "</table>"
      ],
      "text/plain": [
       "<IPython.core.display.HTML object>"
      ]
     },
     "metadata": {},
     "output_type": "display_data"
    }
   ],
   "source": [
    "learn.freeze_to(-2)\n",
    "alpha /= 2\n",
    "learn.fit_one_cycle(1, slice(alpha/(2.6**4),alpha), moms=(0.8,0.7))"
   ]
  },
  {
   "cell_type": "code",
   "execution_count": 17,
   "metadata": {},
   "outputs": [],
   "source": [
    "learn.save('second')\n",
    "learn.load('second');"
   ]
  },
  {
   "cell_type": "code",
   "execution_count": 18,
   "metadata": {},
   "outputs": [
    {
     "data": {
      "text/html": [
       "<table border=\"1\" class=\"dataframe\">\n",
       "  <thead>\n",
       "    <tr style=\"text-align: left;\">\n",
       "      <th>epoch</th>\n",
       "      <th>train_loss</th>\n",
       "      <th>valid_loss</th>\n",
       "      <th>accuracy</th>\n",
       "      <th>time</th>\n",
       "    </tr>\n",
       "  </thead>\n",
       "  <tbody>\n",
       "    <tr>\n",
       "      <td>0</td>\n",
       "      <td>0.571392</td>\n",
       "      <td>0.455563</td>\n",
       "      <td>0.829235</td>\n",
       "      <td>00:17</td>\n",
       "    </tr>\n",
       "  </tbody>\n",
       "</table>"
      ],
      "text/plain": [
       "<IPython.core.display.HTML object>"
      ]
     },
     "metadata": {},
     "output_type": "display_data"
    }
   ],
   "source": [
    "learn.freeze_to(-3)\n",
    "alpha /= 2\n",
    "learn.fit_one_cycle(1, slice(alpha/(2.6**4),alpha), moms=(0.8,0.7))"
   ]
  },
  {
   "cell_type": "code",
   "execution_count": 19,
   "metadata": {},
   "outputs": [],
   "source": [
    "learn.save('third')\n",
    "learn.load('third');"
   ]
  },
  {
   "cell_type": "code",
   "execution_count": 20,
   "metadata": {},
   "outputs": [
    {
     "data": {
      "text/html": [
       "<table border=\"1\" class=\"dataframe\">\n",
       "  <thead>\n",
       "    <tr style=\"text-align: left;\">\n",
       "      <th>epoch</th>\n",
       "      <th>train_loss</th>\n",
       "      <th>valid_loss</th>\n",
       "      <th>accuracy</th>\n",
       "      <th>time</th>\n",
       "    </tr>\n",
       "  </thead>\n",
       "  <tbody>\n",
       "    <tr>\n",
       "      <td>0</td>\n",
       "      <td>0.488669</td>\n",
       "      <td>0.453061</td>\n",
       "      <td>0.825137</td>\n",
       "      <td>00:23</td>\n",
       "    </tr>\n",
       "    <tr>\n",
       "      <td>1</td>\n",
       "      <td>0.476252</td>\n",
       "      <td>0.452318</td>\n",
       "      <td>0.825820</td>\n",
       "      <td>00:21</td>\n",
       "    </tr>\n",
       "  </tbody>\n",
       "</table>"
      ],
      "text/plain": [
       "<IPython.core.display.HTML object>"
      ]
     },
     "metadata": {},
     "output_type": "display_data"
    }
   ],
   "source": [
    "learn.unfreeze()\n",
    "alpha /= 5\n",
    "learn.fit_one_cycle(2, slice(alpha/(2.6**4),alpha), moms=(0.8,0.7))"
   ]
  },
  {
   "cell_type": "markdown",
   "metadata": {},
   "source": [
    "Let's save the final model for quicker future use."
   ]
  },
  {
   "cell_type": "code",
   "execution_count": 21,
   "metadata": {},
   "outputs": [],
   "source": [
    "learn.save('final')"
   ]
  },
  {
   "cell_type": "markdown",
   "metadata": {},
   "source": [
    "## Checking results"
   ]
  },
  {
   "cell_type": "code",
   "execution_count": 22,
   "metadata": {},
   "outputs": [],
   "source": [
    "if learn is None:\n",
    "    learn = initialize_text_classifier()\n",
    "learn.load('final');"
   ]
  },
  {
   "cell_type": "code",
   "execution_count": 23,
   "metadata": {},
   "outputs": [
    {
     "name": "stdout",
     "output_type": "stream",
     "text": [
      "Train score = 0.878498, test score = 0.825820\n"
     ]
    }
   ],
   "source": [
    "score_train = learn.validate(data_clas.train_dl)[1].item()\n",
    "score_test = learn.validate(data_clas.valid_dl)[1].item()\n",
    "\n",
    "print(\"Train score = %f, test score = %f\" % (score_train, score_test))"
   ]
  },
  {
   "cell_type": "markdown",
   "metadata": {},
   "source": [
    "Let's interpret the results some more. We can get the confusion matrix and the \"most confused\" samples:"
   ]
  },
  {
   "cell_type": "code",
   "execution_count": 24,
   "metadata": {},
   "outputs": [],
   "source": [
    "interp = TextClassificationInterpretation.from_learner(learn)"
   ]
  },
  {
   "cell_type": "code",
   "execution_count": 25,
   "metadata": {},
   "outputs": [
    {
     "data": {
      "image/png": "[encoded data removed]",
      "text/plain": [
       "<Figure size 432x288 with 1 Axes>"
      ]
     },
     "metadata": {
      "needs_background": "light"
     },
     "output_type": "display_data"
    }
   ],
   "source": [
    "interp.plot_confusion_matrix()"
   ]
  },
  {
   "cell_type": "code",
   "execution_count": 26,
   "metadata": {
    "scrolled": true
   },
   "outputs": [
    {
     "data": {
      "text/html": [
       "<table border=\"1\" class=\"dataframe\">\n",
       "  <thead>\n",
       "    <tr style=\"text-align: right;\">\n",
       "      <th>Text</th>\n",
       "      <th>Prediction</th>\n",
       "      <th>Actual</th>\n",
       "      <th>Loss</th>\n",
       "      <th>Probability</th>\n",
       "    </tr>\n",
       "  </thead>\n",
       "  <tbody>\n",
       "    <tr>\n",
       "      <td>xxbos xxmaj flight attendant xxunk provided excellent service among xxunk conditions throughout the day ✈ :-)</td>\n",
       "      <td>positive</td>\n",
       "      <td>positive</td>\n",
       "      <td>10.09</td>\n",
       "      <td>1.00</td>\n",
       "    </tr>\n",
       "    <tr>\n",
       "      <td>xxbos you can do better than this . xxmaj and you can do better for me and all the passengers . # xxunk jfk to pwm .</td>\n",
       "      <td>negative</td>\n",
       "      <td>negative</td>\n",
       "      <td>4.68</td>\n",
       "      <td>0.98</td>\n",
       "    </tr>\n",
       "    <tr>\n",
       "      <td>xxbos i 'm xxunk for a good reason : you rock ! !</td>\n",
       "      <td>negative</td>\n",
       "      <td>positive</td>\n",
       "      <td>4.39</td>\n",
       "      <td>0.01</td>\n",
       "    </tr>\n",
       "    <tr>\n",
       "      <td>xxbos xxmaj late xxmaj flight to xxmaj denver , xxmaj late xxmaj flight to xxmaj newark ... let 's not even get into the disaster that was checking bags . xxmaj unacceptable .</td>\n",
       "      <td>positive</td>\n",
       "      <td>negative</td>\n",
       "      <td>4.39</td>\n",
       "      <td>0.02</td>\n",
       "    </tr>\n",
       "    <tr>\n",
       "      <td>xxbos xxmaj you must follow me in order for me to send you a direct message if that is what you meant .</td>\n",
       "      <td>positive</td>\n",
       "      <td>neutral</td>\n",
       "      <td>4.29</td>\n",
       "      <td>0.01</td>\n",
       "    </tr>\n",
       "  </tbody>\n",
       "</table>"
      ],
      "text/plain": [
       "<IPython.core.display.HTML object>"
      ]
     },
     "metadata": {},
     "output_type": "display_data"
    }
   ],
   "source": [
    "interp.show_top_losses(5)"
   ]
  },
  {
   "cell_type": "markdown",
   "metadata": {},
   "source": [
    "But this is not so informative, so I made a small modification to just show the ones with misclassified labels :-)"
   ]
  },
  {
   "cell_type": "code",
   "execution_count": 27,
   "metadata": {
    "scrolled": true
   },
   "outputs": [
    {
     "data": {
      "text/html": [
       "<table border=\"1\" class=\"dataframe\">\n",
       "  <thead>\n",
       "    <tr style=\"text-align: right;\">\n",
       "      <th>Text</th>\n",
       "      <th>Prediction</th>\n",
       "      <th>Actual</th>\n",
       "      <th>Loss</th>\n",
       "      <th>Probability</th>\n",
       "    </tr>\n",
       "  </thead>\n",
       "  <tbody>\n",
       "    <tr>\n",
       "      <td>xxbos i 'm xxunk for a good reason : you rock ! !</td>\n",
       "      <td>negative</td>\n",
       "      <td>positive</td>\n",
       "      <td>4.39</td>\n",
       "      <td>0.01</td>\n",
       "    </tr>\n",
       "    <tr>\n",
       "      <td>xxbos xxmaj late xxmaj flight to xxmaj denver , xxmaj late xxmaj flight to xxmaj newark ... let 's not even get into the disaster that was checking bags . xxmaj unacceptable .</td>\n",
       "      <td>positive</td>\n",
       "      <td>negative</td>\n",
       "      <td>4.39</td>\n",
       "      <td>0.02</td>\n",
       "    </tr>\n",
       "    <tr>\n",
       "      <td>xxbos xxmaj you must follow me in order for me to send you a direct message if that is what you meant .</td>\n",
       "      <td>positive</td>\n",
       "      <td>neutral</td>\n",
       "      <td>4.29</td>\n",
       "      <td>0.01</td>\n",
       "    </tr>\n",
       "    <tr>\n",
       "      <td>xxbos yes to three different xxunk along the walk to the plane . xxmaj xxunk</td>\n",
       "      <td>positive</td>\n",
       "      <td>negative</td>\n",
       "      <td>4.18</td>\n",
       "      <td>0.06</td>\n",
       "    </tr>\n",
       "    <tr>\n",
       "      <td>xxbos i am a premium xxunk xxunk . xxmaj unacceptable 4 you to hangup my customerservice call twice after putting me on hold .</td>\n",
       "      <td>positive</td>\n",
       "      <td>negative</td>\n",
       "      <td>4.15</td>\n",
       "      <td>0.02</td>\n",
       "    </tr>\n",
       "  </tbody>\n",
       "</table>"
      ],
      "text/plain": [
       "<IPython.core.display.HTML object>"
      ]
     },
     "metadata": {},
     "output_type": "display_data"
    }
   ],
   "source": [
    "my_utils.show_top_losses_misclassified(interp, 5)"
   ]
  },
  {
   "cell_type": "markdown",
   "metadata": {},
   "source": [
    "Let's show the predicted sentiment of some hand-made inputs:"
   ]
  },
  {
   "cell_type": "code",
   "execution_count": 33,
   "metadata": {},
   "outputs": [
    {
     "name": "stdout",
     "output_type": "stream",
     "text": [
      "negative\t0.961  0.003  0.036\tAwful flight\n",
      "positive\t0.002  0.002  0.996\tGreat trip, thanks to all\n",
      "positive\t0.260  0.025  0.714\tattendant was rude!\n",
      "negative\t0.667  0.101  0.232\tI thought I was going to have some great vacations, but everything was ruined by the delay and the rude service. Way, to go @VirginAmerica!\n",
      "positive\t0.304  0.115  0.581\tfirst time with you, pretty fair :-) Food was ok\n"
     ]
    }
   ],
   "source": [
    "examples = [\n",
    "    \"Awful flight\",\n",
    "    \"Great trip, thanks to all\",\n",
    "    \"attendant was rude!\",\n",
    "    \"I thought I was going to have some great vacations, but everything was ruined by the delay and the rude service. Way, to go @VirginAmerica!\",\n",
    "    \"first time with you, pretty fair :-) Food was ok\"\n",
    "]\n",
    "\n",
    "for example in examples:\n",
    "    pred = learn.predict(example)\n",
    "    label = pred[0]\n",
    "    probs = pred[2].tolist()\n",
    "    print('\\t'.join([str(label), '  '.join('%.3f' % p for p in probs), example]))"
   ]
  },
  {
   "cell_type": "markdown",
   "metadata": {},
   "source": [
    "Let's see which words of our examples had the greatest contribution in the classification decision:"
   ]
  },
  {
   "cell_type": "code",
   "execution_count": 34,
   "metadata": {
    "scrolled": true
   },
   "outputs": [
    {
     "data": {
      "text/html": [
       "<span style=\"font-family: monospace;\"><span title=\"0.038\" style=\"background-color: rgba(254, 239, 231, 0.5);\">xxbos</span> <span title=\"0.117\" style=\"background-color: rgba(254, 225, 211, 0.5);\">xxmaj</span> <span title=\"1.000\" style=\"background-color: rgba(103, 0, 12, 0.5);\">awful</span> <span title=\"0.274\" style=\"background-color: rgba(252, 178, 151, 0.5);\">flight</span></span>"
      ],
      "text/plain": [
       "<IPython.core.display.HTML object>"
      ]
     },
     "metadata": {},
     "output_type": "display_data"
    },
    {
     "data": {
      "text/html": [
       "<span style=\"font-family: monospace;\"><span title=\"0.041\" style=\"background-color: rgba(254, 238, 230, 0.5);\">xxbos</span> <span title=\"0.143\" style=\"background-color: rgba(253, 219, 203, 0.5);\">xxmaj</span> <span title=\"1.000\" style=\"background-color: rgba(103, 0, 12, 0.5);\">great</span> <span title=\"0.987\" style=\"background-color: rgba(108, 1, 13, 0.5);\">trip</span> <span title=\"0.399\" style=\"background-color: rgba(251, 138, 106, 0.5);\">,</span> <span title=\"0.954\" style=\"background-color: rgba(124, 5, 15, 0.5);\">thanks</span> <span title=\"0.396\" style=\"background-color: rgba(251, 139, 107, 0.5);\">to</span> <span title=\"0.577\" style=\"background-color: rgba(243, 77, 55, 0.5);\">all</span></span>"
      ],
      "text/plain": [
       "<IPython.core.display.HTML object>"
      ]
     },
     "metadata": {},
     "output_type": "display_data"
    },
    {
     "data": {
      "text/html": [
       "<span style=\"font-family: monospace;\"><span title=\"0.098\" style=\"background-color: rgba(254, 229, 217, 0.5);\">xxbos</span> <span title=\"1.000\" style=\"background-color: rgba(103, 0, 12, 0.5);\">attendant</span> <span title=\"0.298\" style=\"background-color: rgba(252, 171, 142, 0.5);\">was</span> <span title=\"0.760\" style=\"background-color: rgba(199, 23, 28, 0.5);\">rude</span> <span title=\"0.375\" style=\"background-color: rgba(252, 146, 114, 0.5);\">!</span></span>"
      ],
      "text/plain": [
       "<IPython.core.display.HTML object>"
      ]
     },
     "metadata": {},
     "output_type": "display_data"
    },
    {
     "data": {
      "text/html": [
       "<span style=\"font-family: monospace;\"><span title=\"0.026\" style=\"background-color: rgba(254, 241, 234, 0.5);\">xxbos</span> <span title=\"0.146\" style=\"background-color: rgba(253, 218, 202, 0.5);\">i</span> <span title=\"0.753\" style=\"background-color: rgba(202, 23, 28, 0.5);\">thought</span> <span title=\"0.215\" style=\"background-color: rgba(252, 197, 174, 0.5);\">i</span> <span title=\"0.160\" style=\"background-color: rgba(253, 214, 197, 0.5);\">was</span> <span title=\"0.242\" style=\"background-color: rgba(252, 189, 163, 0.5);\">going</span> <span title=\"0.141\" style=\"background-color: rgba(253, 219, 203, 0.5);\">to</span> <span title=\"0.249\" style=\"background-color: rgba(252, 187, 162, 0.5);\">have</span> <span title=\"0.346\" style=\"background-color: rgba(252, 155, 125, 0.5);\">some</span> <span title=\"0.553\" style=\"background-color: rgba(245, 86, 61, 0.5);\">great</span> <span title=\"0.962\" style=\"background-color: rgba(120, 4, 15, 0.5);\">vacations</span> <span title=\"0.240\" style=\"background-color: rgba(252, 190, 165, 0.5);\">,</span> <span title=\"0.308\" style=\"background-color: rgba(252, 168, 139, 0.5);\">but</span> <span title=\"0.671\" style=\"background-color: rgba(225, 46, 38, 0.5);\">everything</span> <span title=\"0.301\" style=\"background-color: rgba(252, 171, 142, 0.5);\">was</span> <span title=\"0.951\" style=\"background-color: rgba(126, 5, 16, 0.5);\">ruined</span> <span title=\"0.258\" style=\"background-color: rgba(252, 184, 157, 0.5);\">by</span> <span title=\"0.190\" style=\"background-color: rgba(252, 205, 185, 0.5);\">the</span> <span title=\"0.442\" style=\"background-color: rgba(251, 124, 92, 0.5);\">delay</span> <span title=\"0.208\" style=\"background-color: rgba(252, 199, 177, 0.5);\">and</span> <span title=\"0.275\" style=\"background-color: rgba(252, 178, 151, 0.5);\">the</span> <span title=\"1.000\" style=\"background-color: rgba(103, 0, 12, 0.5);\">rude</span> <span title=\"0.439\" style=\"background-color: rgba(251, 125, 93, 0.5);\">service</span> <span title=\"0.245\" style=\"background-color: rgba(252, 189, 163, 0.5);\">.</span> <span title=\"0.180\" style=\"background-color: rgba(253, 207, 188, 0.5);\">xxmaj</span> <span title=\"0.466\" style=\"background-color: rgba(251, 116, 84, 0.5);\">way</span> <span title=\"0.217\" style=\"background-color: rgba(252, 197, 174, 0.5);\">,</span> <span title=\"0.221\" style=\"background-color: rgba(252, 195, 172, 0.5);\">to</span> <span title=\"0.516\" style=\"background-color: rgba(249, 99, 69, 0.5);\">go</span> <span title=\"0.380\" style=\"background-color: rgba(251, 144, 112, 0.5);\">xxunk</span> <span title=\"0.380\" style=\"background-color: rgba(251, 144, 112, 0.5);\">!</span></span>"
      ],
      "text/plain": [
       "<IPython.core.display.HTML object>"
      ]
     },
     "metadata": {},
     "output_type": "display_data"
    },
    {
     "data": {
      "text/html": [
       "<span style=\"font-family: monospace;\"><span title=\"0.087\" style=\"background-color: rgba(254, 230, 219, 0.5);\">xxbos</span> <span title=\"0.661\" style=\"background-color: rgba(228, 48, 39, 0.5);\">first</span> <span title=\"0.644\" style=\"background-color: rgba(233, 53, 41, 0.5);\">time</span> <span title=\"0.493\" style=\"background-color: rgba(251, 107, 75, 0.5);\">with</span> <span title=\"0.415\" style=\"background-color: rgba(251, 132, 100, 0.5);\">you</span> <span title=\"0.278\" style=\"background-color: rgba(252, 177, 150, 0.5);\">,</span> <span title=\"0.868\" style=\"background-color: rgba(166, 15, 21, 0.5);\">pretty</span> <span title=\"1.000\" style=\"background-color: rgba(103, 0, 12, 0.5);\">fair</span> <span title=\"0.740\" style=\"background-color: rgba(205, 26, 30, 0.5);\">:-)</span> <span title=\"0.241\" style=\"background-color: rgba(252, 190, 165, 0.5);\">xxmaj</span> <span title=\"0.913\" style=\"background-color: rgba(145, 10, 18, 0.5);\">food</span> <span title=\"0.332\" style=\"background-color: rgba(252, 160, 131, 0.5);\">was</span> <span title=\"0.581\" style=\"background-color: rgba(243, 75, 54, 0.5);\">ok</span></span>"
      ],
      "text/plain": [
       "<IPython.core.display.HTML object>"
      ]
     },
     "metadata": {},
     "output_type": "display_data"
    }
   ],
   "source": [
    "import matplotlib.cm as cm\n",
    "\n",
    "for example in examples:\n",
    "    interp.show_intrinsic_attention(example, cmap=cm.Reds)"
   ]
  },
  {
   "cell_type": "markdown",
   "metadata": {},
   "source": [
    "We can do the same with some random training examples:"
   ]
  },
  {
   "cell_type": "code",
   "execution_count": 35,
   "metadata": {},
   "outputs": [
    {
     "data": {
      "text/html": [
       "<span style=\"font-family: monospace;\"><span title=\"0.019\" style=\"background-color: rgba(254, 242, 236, 0.5);\">xxbos</span> <span title=\"0.148\" style=\"background-color: rgba(253, 216, 200, 0.5);\">xxhan</span> <span title=\"0.115\" style=\"background-color: rgba(254, 225, 212, 0.5);\">xxmaj</span> <span title=\"0.303\" style=\"background-color: rgba(252, 169, 141, 0.5);\">is</span> <span title=\"0.257\" style=\"background-color: rgba(252, 185, 159, 0.5);\">there</span> <span title=\"0.196\" style=\"background-color: rgba(252, 202, 182, 0.5);\">a</span> <span title=\"0.307\" style=\"background-color: rgba(252, 168, 139, 0.5);\">way</span> <span title=\"0.164\" style=\"background-color: rgba(253, 213, 195, 0.5);\">to</span> <span title=\"0.670\" style=\"background-color: rgba(225, 46, 38, 0.5);\">reserve</span> <span title=\"0.130\" style=\"background-color: rgba(253, 222, 208, 0.5);\">a</span> <span title=\"0.219\" style=\"background-color: rgba(252, 195, 172, 0.5);\">xxunk</span> <span title=\"0.560\" style=\"background-color: rgba(245, 83, 59, 0.5);\">meal</span> <span title=\"0.334\" style=\"background-color: rgba(252, 159, 129, 0.5);\">online</span> <span title=\"0.111\" style=\"background-color: rgba(254, 226, 213, 0.5);\">for</span> <span title=\"0.093\" style=\"background-color: rgba(254, 229, 218, 0.5);\">a</span> <span title=\"0.168\" style=\"background-color: rgba(253, 211, 192, 0.5);\">flight</span> <span title=\"0.053\" style=\"background-color: rgba(254, 236, 227, 0.5);\">to</span> <span title=\"0.057\" style=\"background-color: rgba(254, 235, 226, 0.5);\">xxmaj</span> <span title=\"0.130\" style=\"background-color: rgba(253, 222, 208, 0.5);\">xxunk</span> <span title=\"0.224\" style=\"background-color: rgba(252, 194, 171, 0.5);\">tomorrow</span> <span title=\"0.163\" style=\"background-color: rgba(253, 213, 195, 0.5);\">?</span> <span title=\"0.125\" style=\"background-color: rgba(254, 224, 210, 0.5);\">i</span> <span title=\"0.343\" style=\"background-color: rgba(252, 157, 126, 0.5);\">&#x27;ve</span> <span title=\"0.376\" style=\"background-color: rgba(251, 145, 113, 0.5);\">been</span> <span title=\"1.000\" style=\"background-color: rgba(103, 0, 12, 0.5);\">onhold</span> <span title=\"0.229\" style=\"background-color: rgba(252, 193, 169, 0.5);\">for</span> <span title=\"0.227\" style=\"background-color: rgba(252, 193, 169, 0.5);\">more</span> <span title=\"0.236\" style=\"background-color: rgba(252, 191, 166, 0.5);\">than</span> <span title=\"0.214\" style=\"background-color: rgba(252, 198, 175, 0.5);\">1</span> <span title=\"0.297\" style=\"background-color: rgba(252, 172, 144, 0.5);\">hour</span> <span title=\"0.144\" style=\"background-color: rgba(253, 219, 203, 0.5);\">.</span></span>"
      ],
      "text/plain": [
       "<IPython.core.display.HTML object>"
      ]
     },
     "metadata": {},
     "output_type": "display_data"
    },
    {
     "data": {
      "text/html": [
       "<span style=\"font-family: monospace;\"><span title=\"0.031\" style=\"background-color: rgba(254, 240, 233, 0.5);\">xxbos</span> <span title=\"0.414\" style=\"background-color: rgba(251, 134, 102, 0.5);\">thanks</span> <span title=\"0.190\" style=\"background-color: rgba(252, 205, 185, 0.5);\">xxmaj</span> <span title=\"0.658\" style=\"background-color: rgba(229, 49, 39, 0.5);\">southwest</span> <span title=\"0.311\" style=\"background-color: rgba(252, 167, 138, 0.5);\">for</span> <span title=\"1.000\" style=\"background-color: rgba(103, 0, 12, 0.5);\">saving</span> <span title=\"0.145\" style=\"background-color: rgba(253, 218, 202, 0.5);\">our</span> <span title=\"0.193\" style=\"background-color: rgba(252, 204, 183, 0.5);\">trip</span> <span title=\"0.090\" style=\"background-color: rgba(254, 229, 218, 0.5);\">.</span> <span title=\"0.153\" style=\"background-color: rgba(253, 215, 199, 0.5);\">my</span> <span title=\"0.182\" style=\"background-color: rgba(253, 207, 188, 0.5);\">xxunk</span> <span title=\"0.129\" style=\"background-color: rgba(253, 223, 209, 0.5);\">is</span> <span title=\"0.175\" style=\"background-color: rgba(253, 209, 191, 0.5);\">n&#x27;t</span> <span title=\"0.157\" style=\"background-color: rgba(253, 214, 197, 0.5);\">going</span> <span title=\"0.064\" style=\"background-color: rgba(254, 234, 224, 0.5);\">to</span> <span title=\"0.249\" style=\"background-color: rgba(252, 187, 162, 0.5);\">miss</span> <span title=\"0.248\" style=\"background-color: rgba(252, 187, 162, 0.5);\">seeing</span> <span title=\"0.172\" style=\"background-color: rgba(253, 209, 191, 0.5);\">xxunk</span> <span title=\"0.389\" style=\"background-color: rgba(251, 141, 109, 0.5);\">thanks</span> <span title=\"0.111\" style=\"background-color: rgba(254, 226, 213, 0.5);\">to</span> <span title=\"0.580\" style=\"background-color: rgba(243, 75, 54, 0.5);\">y&#x27;</span> <span title=\"0.172\" style=\"background-color: rgba(253, 209, 191, 0.5);\">all</span> <span title=\"0.262\" style=\"background-color: rgba(252, 182, 156, 0.5);\">!</span> <span title=\"0.214\" style=\"background-color: rgba(252, 198, 175, 0.5);\">xxunk</span></span>"
      ],
      "text/plain": [
       "<IPython.core.display.HTML object>"
      ]
     },
     "metadata": {},
     "output_type": "display_data"
    },
    {
     "data": {
      "text/html": [
       "<span style=\"font-family: monospace;\"><span title=\"0.083\" style=\"background-color: rgba(254, 231, 220, 0.5);\">xxbos</span> <span title=\"1.000\" style=\"background-color: rgba(103, 0, 12, 0.5);\">24</span> <span title=\"0.908\" style=\"background-color: rgba(147, 10, 18, 0.5);\">seats</span> <span title=\"0.630\" style=\"background-color: rgba(237, 57, 43, 0.5);\">available</span> <span title=\"0.212\" style=\"background-color: rgba(252, 198, 175, 0.5);\">on</span> <span title=\"0.157\" style=\"background-color: rgba(253, 214, 197, 0.5);\">the</span> <span title=\"0.260\" style=\"background-color: rgba(252, 184, 157, 0.5);\">xxunk</span> <span title=\"0.443\" style=\"background-color: rgba(251, 124, 92, 0.5);\">pm</span> <span title=\"0.173\" style=\"background-color: rgba(253, 209, 191, 0.5);\">from</span> <span title=\"0.114\" style=\"background-color: rgba(254, 225, 212, 0.5);\">xxup</span> <span title=\"0.388\" style=\"background-color: rgba(251, 141, 109, 0.5);\">ord</span> <span title=\"0.125\" style=\"background-color: rgba(254, 224, 210, 0.5);\">to</span> <span title=\"0.111\" style=\"background-color: rgba(254, 226, 213, 0.5);\">xxup</span> <span title=\"0.341\" style=\"background-color: rgba(252, 157, 126, 0.5);\">rdu</span> <span title=\"0.196\" style=\"background-color: rgba(252, 202, 182, 0.5);\">...</span> <span title=\"0.148\" style=\"background-color: rgba(253, 218, 202, 0.5);\">i</span> <span title=\"0.327\" style=\"background-color: rgba(252, 162, 132, 0.5);\">need</span> <span title=\"0.197\" style=\"background-color: rgba(252, 202, 182, 0.5);\">2</span> <span title=\"0.436\" style=\"background-color: rgba(251, 126, 94, 0.5);\">seats</span> <span title=\"0.364\" style=\"background-color: rgba(252, 149, 117, 0.5);\">please</span></span>"
      ],
      "text/plain": [
       "<IPython.core.display.HTML object>"
      ]
     },
     "metadata": {},
     "output_type": "display_data"
    },
    {
     "data": {
      "text/html": [
       "<span style=\"font-family: monospace;\"><span title=\"0.040\" style=\"background-color: rgba(254, 238, 230, 0.5);\">xxbos</span> <span title=\"0.267\" style=\"background-color: rgba(252, 181, 154, 0.5);\">you</span> <span title=\"0.264\" style=\"background-color: rgba(252, 182, 156, 0.5);\">have</span> <span title=\"0.180\" style=\"background-color: rgba(253, 207, 188, 0.5);\">to</span> <span title=\"0.302\" style=\"background-color: rgba(252, 169, 141, 0.5);\">be</span> <span title=\"0.775\" style=\"background-color: rgba(194, 22, 27, 0.5);\">crazy</span> <span title=\"0.321\" style=\"background-color: rgba(252, 163, 134, 0.5);\">!</span> <span title=\"0.162\" style=\"background-color: rgba(253, 213, 195, 0.5);\">xxmaj</span> <span title=\"1.000\" style=\"background-color: rgba(103, 0, 12, 0.5);\">treated</span> <span title=\"0.306\" style=\"background-color: rgba(252, 168, 139, 0.5);\">my</span> <span title=\"0.603\" style=\"background-color: rgba(241, 66, 49, 0.5);\">mom</span> <span title=\"0.402\" style=\"background-color: rgba(251, 138, 106, 0.5);\">very</span> <span title=\"0.494\" style=\"background-color: rgba(251, 107, 75, 0.5);\">poorly</span> <span title=\"0.163\" style=\"background-color: rgba(253, 213, 195, 0.5);\">.</span> <span title=\"0.114\" style=\"background-color: rgba(254, 225, 212, 0.5);\">xxmaj</span> <span title=\"0.356\" style=\"background-color: rgba(252, 151, 120, 0.5);\">not</span> <span title=\"0.584\" style=\"background-color: rgba(242, 74, 53, 0.5);\">happy</span> <span title=\"0.335\" style=\"background-color: rgba(252, 159, 129, 0.5);\">!</span> <span title=\"0.666\" style=\"background-color: rgba(227, 47, 39, 0.5);\">usairwaysfail</span></span>"
      ],
      "text/plain": [
       "<IPython.core.display.HTML object>"
      ]
     },
     "metadata": {},
     "output_type": "display_data"
    },
    {
     "data": {
      "text/html": [
       "<span style=\"font-family: monospace;\"><span title=\"0.064\" style=\"background-color: rgba(254, 234, 224, 0.5);\">xxbos</span> <span title=\"0.533\" style=\"background-color: rgba(247, 93, 66, 0.5);\">why</span> <span title=\"0.263\" style=\"background-color: rgba(252, 182, 156, 0.5);\">xxmaj</span> <span title=\"0.731\" style=\"background-color: rgba(207, 28, 31, 0.5);\">cancelled</span> <span title=\"0.135\" style=\"background-color: rgba(253, 221, 206, 0.5);\">xxmaj</span> <span title=\"0.267\" style=\"background-color: rgba(252, 181, 154, 0.5);\">flight</span> <span title=\"0.446\" style=\"background-color: rgba(251, 122, 90, 0.5);\">flight</span> <span title=\"0.223\" style=\"background-color: rgba(252, 194, 171, 0.5);\">xxup</span> <span title=\"0.399\" style=\"background-color: rgba(251, 138, 106, 0.5);\">xxunk</span> <span title=\"0.478\" style=\"background-color: rgba(251, 112, 80, 0.5);\">?</span> <span title=\"0.255\" style=\"background-color: rgba(252, 185, 159, 0.5);\">xxmaj</span> <span title=\"0.445\" style=\"background-color: rgba(251, 124, 92, 0.5);\">one</span> <span title=\"1.000\" style=\"background-color: rgba(103, 0, 12, 0.5);\">sec</span> <span title=\"0.411\" style=\"background-color: rgba(251, 134, 102, 0.5);\">its</span> <span title=\"0.531\" style=\"background-color: rgba(248, 94, 66, 0.5);\">delayed</span> <span title=\"0.188\" style=\"background-color: rgba(252, 205, 185, 0.5);\">,</span> <span title=\"0.230\" style=\"background-color: rgba(252, 193, 169, 0.5);\">on</span> <span title=\"0.248\" style=\"background-color: rgba(252, 187, 162, 0.5);\">my</span> <span title=\"0.183\" style=\"background-color: rgba(253, 207, 188, 0.5);\">to</span> <span title=\"0.193\" style=\"background-color: rgba(252, 204, 183, 0.5);\">airport</span> <span title=\"0.118\" style=\"background-color: rgba(254, 225, 211, 0.5);\">,</span> <span title=\"0.129\" style=\"background-color: rgba(253, 222, 208, 0.5);\">the</span> <span title=\"0.265\" style=\"background-color: rgba(252, 182, 156, 0.5);\">next</span> <span title=\"0.263\" style=\"background-color: rgba(252, 182, 156, 0.5);\">its</span> <span title=\"0.098\" style=\"background-color: rgba(254, 228, 216, 0.5);\">xxmaj</span> <span title=\"0.323\" style=\"background-color: rgba(252, 163, 134, 0.5);\">cancelled</span> <span title=\"0.070\" style=\"background-color: rgba(254, 233, 224, 0.5);\">xxmaj</span> <span title=\"0.242\" style=\"background-color: rgba(252, 190, 165, 0.5);\">flightled</span> <span title=\"0.263\" style=\"background-color: rgba(252, 182, 156, 0.5);\">?</span> <span title=\"0.161\" style=\"background-color: rgba(253, 213, 195, 0.5);\">xxmaj</span> <span title=\"0.715\" style=\"background-color: rgba(213, 34, 33, 0.5);\">gon</span> <span title=\"0.391\" style=\"background-color: rgba(251, 141, 109, 0.5);\">na</span> <span title=\"0.423\" style=\"background-color: rgba(251, 130, 98, 0.5);\">email</span> <span title=\"0.170\" style=\"background-color: rgba(253, 211, 192, 0.5);\">or</span> <span title=\"0.269\" style=\"background-color: rgba(252, 181, 154, 0.5);\">call</span> <span title=\"0.161\" style=\"background-color: rgba(253, 213, 195, 0.5);\">me</span> <span title=\"0.150\" style=\"background-color: rgba(253, 216, 200, 0.5);\">to</span> <span title=\"0.626\" style=\"background-color: rgba(238, 58, 43, 0.5);\">reschedule</span> <span title=\"0.245\" style=\"background-color: rgba(252, 189, 163, 0.5);\">?</span></span>"
      ],
      "text/plain": [
       "<IPython.core.display.HTML object>"
      ]
     },
     "metadata": {},
     "output_type": "display_data"
    }
   ],
   "source": [
    "df_sample = df_labeled.sample(5)\n",
    "\n",
    "for _, row in df_sample.iterrows():\n",
    "    interp.show_intrinsic_attention(row.text, cmap=cm.Reds)"
   ]
  },
  {
   "cell_type": "markdown",
   "metadata": {},
   "source": [
    "## Putting all together\n",
    "\n",
    "Finally, we can compare with some baseline results."
   ]
  },
  {
   "cell_type": "code",
   "execution_count": 37,
   "metadata": {},
   "outputs": [],
   "source": [
    "results = {}\n",
    "results['ulmfit_wt103'] = (score_train, score_test)"
   ]
  },
  {
   "cell_type": "markdown",
   "metadata": {},
   "source": [
    "Let's try with the trivial case (at random following prior class distributions):"
   ]
  },
  {
   "cell_type": "code",
   "execution_count": 41,
   "metadata": {},
   "outputs": [
    {
     "name": "stdout",
     "output_type": "stream",
     "text": [
      "Training size: 13176; test size: 1464\n"
     ]
    }
   ],
   "source": [
    "from sklearn.model_selection import train_test_split\n",
    "\n",
    "text_train, text_test, label_train, label_test = train_test_split(df_labeled['text'], df_labeled['sentiment'], test_size=0.1, random_state=0)\n",
    "\n",
    "print(\"Training size: %d; test size: %d\" % (len(text_train), len(text_test)))"
   ]
  },
  {
   "cell_type": "code",
   "execution_count": 45,
   "metadata": {},
   "outputs": [],
   "source": [
    "from sklearn.dummy import DummyClassifier\n",
    "\n",
    "clf = DummyClassifier(strategy='stratified', random_state=42)\n",
    "clf.fit(text_train, label_train)\n",
    "\n",
    "score_train = clf.score(text_train, label_train)\n",
    "score_test = clf.score(text_test, label_test)\n",
    "\n",
    "results['random_with_class_dist'] = (score_train, score_test)"
   ]
  },
  {
   "cell_type": "markdown",
   "metadata": {},
   "source": [
    "Let's also compare with the Multinominal NB, that performed well before and is fast to train."
   ]
  },
  {
   "cell_type": "code",
   "execution_count": 50,
   "metadata": {},
   "outputs": [],
   "source": [
    "from sklearn.feature_extraction.text import CountVectorizer\n",
    "\n",
    "counter = CountVectorizer()\n",
    "X_train = counter.fit_transform(text_train)\n",
    "X_test = counter.transform(text_test)\n",
    "\n",
    "from sklearn.naive_bayes import MultinomialNB\n",
    "\n",
    "clf = MultinomialNB(alpha=1.0)\n",
    "clf.fit(X_train, label_train)\n",
    "\n",
    "score_train = clf.score(X_train, label_train)\n",
    "score_test = clf.score(X_test, label_test)\n",
    "\n",
    "results['nb_multi_counts'] = (score_train, score_test)"
   ]
  },
  {
   "cell_type": "code",
   "execution_count": 51,
   "metadata": {},
   "outputs": [
    {
     "data": {
      "text/html": [
       "<div>\n",
       "<style scoped>\n",
       "    .dataframe tbody tr th:only-of-type {\n",
       "        vertical-align: middle;\n",
       "    }\n",
       "\n",
       "    .dataframe tbody tr th {\n",
       "        vertical-align: top;\n",
       "    }\n",
       "\n",
       "    .dataframe thead th {\n",
       "        text-align: right;\n",
       "    }\n",
       "</style>\n",
       "<table border=\"1\" class=\"dataframe\">\n",
       "  <thead>\n",
       "    <tr style=\"text-align: right;\">\n",
       "      <th></th>\n",
       "      <th>method</th>\n",
       "      <th>score_train</th>\n",
       "      <th>score_test</th>\n",
       "    </tr>\n",
       "  </thead>\n",
       "  <tbody>\n",
       "    <tr>\n",
       "      <th>0</th>\n",
       "      <td>ulmfit_wt103</td>\n",
       "      <td>0.878498</td>\n",
       "      <td>0.825820</td>\n",
       "    </tr>\n",
       "    <tr>\n",
       "      <th>2</th>\n",
       "      <td>nb_multi_counts</td>\n",
       "      <td>0.853673</td>\n",
       "      <td>0.767077</td>\n",
       "    </tr>\n",
       "    <tr>\n",
       "      <th>1</th>\n",
       "      <td>random_with_class_dist</td>\n",
       "      <td>0.464253</td>\n",
       "      <td>0.476093</td>\n",
       "    </tr>\n",
       "  </tbody>\n",
       "</table>\n",
       "</div>"
      ],
      "text/plain": [
       "                   method  score_train  score_test\n",
       "0            ulmfit_wt103     0.878498    0.825820\n",
       "2         nb_multi_counts     0.853673    0.767077\n",
       "1  random_with_class_dist     0.464253    0.476093"
      ]
     },
     "execution_count": 51,
     "metadata": {},
     "output_type": "execute_result"
    }
   ],
   "source": [
    "results_df = pd.DataFrame([(k, *v) for k, v in results.items()], columns=['method', 'score_train', 'score_test'])\n",
    "results_df = results_df.sort_values(by='score_test', ascending=False)\n",
    "results_df"
   ]
  },
  {
   "cell_type": "code",
   "execution_count": 53,
   "metadata": {},
   "outputs": [
    {
     "data": {
      "text/plain": [
       "<matplotlib.axes._subplots.AxesSubplot at 0x7fa2343a90b8>"
      ]
     },
     "execution_count": 53,
     "metadata": {},
     "output_type": "execute_result"
    },
    {
     "data": {
      "image/png": "[encoded data removed]",
      "text/plain": [
       "<Figure size 864x576 with 1 Axes>"
      ]
     },
     "metadata": {
      "needs_background": "light"
     },
     "output_type": "display_data"
    }
   ],
   "source": [
    "results_df.plot.bar(x='method', rot=30, ylim=(0.4, 1.0), figsize=(12, 8), title='Accuracy on sentiment analysis task (3-class)')"
   ]
  },
  {
   "cell_type": "code",
   "execution_count": 40,
   "metadata": {},
   "outputs": [],
   "source": [
    "with open('data/results3.pkl', 'wb') as f:\n",
    "    pickle.dump(results, f)"
   ]
  },
  {
   "cell_type": "code",
   "execution_count": null,
   "metadata": {},
   "outputs": [],
   "source": []
  }
 ],
 "metadata": {
  "kernelspec": {
   "display_name": "Python 3",
   "language": "python",
   "name": "python3"
  },
  "language_info": {
   "codemirror_mode": {
    "name": "ipython",
    "version": 3
   },
   "file_extension": ".py",
   "mimetype": "text/x-python",
   "name": "python",
   "nbconvert_exporter": "python",
   "pygments_lexer": "ipython3",
   "version": "3.7.0"
  }
 },
 "nbformat": 4,
 "nbformat_minor": 2
}
