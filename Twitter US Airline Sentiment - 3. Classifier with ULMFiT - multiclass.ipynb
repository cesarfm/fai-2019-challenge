{
 "cells": [
  {
   "cell_type": "markdown",
   "metadata": {},
   "source": [
    "# Challenge Part 2: Sentiment Classifier"
   ]
  },
  {
   "cell_type": "code",
   "execution_count": 1,
   "metadata": {},
   "outputs": [],
   "source": [
    "%reload_ext autoreload\n",
    "%autoreload 2\n",
    "%matplotlib inline"
   ]
  },
  {
   "cell_type": "code",
   "execution_count": 2,
   "metadata": {},
   "outputs": [],
   "source": [
    "from fastai.text import *\n",
    "import my_utils"
   ]
  },
  {
   "cell_type": "markdown",
   "metadata": {},
   "source": [
    "Having already trained the language model, it is time to use it for the actual task!"
   ]
  },
  {
   "cell_type": "code",
   "execution_count": 3,
   "metadata": {},
   "outputs": [],
   "source": [
    "VERSION = 'v1'\n",
    "\n",
    "DATA_PATH = 'data/%s/' % VERSION\n",
    "\n",
    "import os\n",
    "os.makedirs(DATA_PATH, exist_ok=True)"
   ]
  },
  {
   "cell_type": "markdown",
   "metadata": {},
   "source": [
    "## Loading the dataset\n",
    "\n",
    "We will load the already pre-processed text data. However for the classification task, we only care about the strongly positive and negative examples, so we will filter out the neutral ones."
   ]
  },
  {
   "cell_type": "code",
   "execution_count": 4,
   "metadata": {},
   "outputs": [
    {
     "data": {
      "text/html": [
       "<div>\n",
       "<style scoped>\n",
       "    .dataframe tbody tr th:only-of-type {\n",
       "        vertical-align: middle;\n",
       "    }\n",
       "\n",
       "    .dataframe tbody tr th {\n",
       "        vertical-align: top;\n",
       "    }\n",
       "\n",
       "    .dataframe thead th {\n",
       "        text-align: right;\n",
       "    }\n",
       "</style>\n",
       "<table border=\"1\" class=\"dataframe\">\n",
       "  <thead>\n",
       "    <tr style=\"text-align: right;\">\n",
       "      <th></th>\n",
       "      <th>text</th>\n",
       "    </tr>\n",
       "    <tr>\n",
       "      <th>sentiment</th>\n",
       "      <th></th>\n",
       "    </tr>\n",
       "  </thead>\n",
       "  <tbody>\n",
       "    <tr>\n",
       "      <th>negative</th>\n",
       "      <td>9178</td>\n",
       "    </tr>\n",
       "    <tr>\n",
       "      <th>neutral</th>\n",
       "      <td>3099</td>\n",
       "    </tr>\n",
       "    <tr>\n",
       "      <th>positive</th>\n",
       "      <td>2363</td>\n",
       "    </tr>\n",
       "  </tbody>\n",
       "</table>\n",
       "</div>"
      ],
      "text/plain": [
       "           text\n",
       "sentiment      \n",
       "negative   9178\n",
       "neutral    3099\n",
       "positive   2363"
      ]
     },
     "execution_count": 4,
     "metadata": {},
     "output_type": "execute_result"
    }
   ],
   "source": [
    "with open('data/lm/tweet_data.pkl', 'rb') as f:\n",
    "    df = pickle.load(f)\n",
    "\n",
    "df.groupby('sentiment').count()"
   ]
  },
  {
   "cell_type": "code",
   "execution_count": 5,
   "metadata": {},
   "outputs": [
    {
     "data": {
      "text/html": [
       "<div>\n",
       "<style scoped>\n",
       "    .dataframe tbody tr th:only-of-type {\n",
       "        vertical-align: middle;\n",
       "    }\n",
       "\n",
       "    .dataframe tbody tr th {\n",
       "        vertical-align: top;\n",
       "    }\n",
       "\n",
       "    .dataframe thead th {\n",
       "        text-align: right;\n",
       "    }\n",
       "</style>\n",
       "<table border=\"1\" class=\"dataframe\">\n",
       "  <thead>\n",
       "    <tr style=\"text-align: right;\">\n",
       "      <th></th>\n",
       "      <th>text</th>\n",
       "    </tr>\n",
       "    <tr>\n",
       "      <th>sentiment</th>\n",
       "      <th></th>\n",
       "    </tr>\n",
       "  </thead>\n",
       "  <tbody>\n",
       "    <tr>\n",
       "      <th>negative</th>\n",
       "      <td>9178</td>\n",
       "    </tr>\n",
       "    <tr>\n",
       "      <th>positive</th>\n",
       "      <td>2363</td>\n",
       "    </tr>\n",
       "  </tbody>\n",
       "</table>\n",
       "</div>"
      ],
      "text/plain": [
       "           text\n",
       "sentiment      \n",
       "negative   9178\n",
       "positive   2363"
      ]
     },
     "execution_count": 5,
     "metadata": {},
     "output_type": "execute_result"
    }
   ],
   "source": [
    "df_labeled = df[df['sentiment'] != 'neutral']\n",
    "\n",
    "df_labeled.groupby('sentiment').count()"
   ]
  },
  {
   "cell_type": "code",
   "execution_count": 6,
   "metadata": {},
   "outputs": [
    {
     "data": {
      "text/html": [
       "<div>\n",
       "<style scoped>\n",
       "    .dataframe tbody tr th:only-of-type {\n",
       "        vertical-align: middle;\n",
       "    }\n",
       "\n",
       "    .dataframe tbody tr th {\n",
       "        vertical-align: top;\n",
       "    }\n",
       "\n",
       "    .dataframe thead th {\n",
       "        text-align: right;\n",
       "    }\n",
       "</style>\n",
       "<table border=\"1\" class=\"dataframe\">\n",
       "  <thead>\n",
       "    <tr style=\"text-align: right;\">\n",
       "      <th></th>\n",
       "      <th>text</th>\n",
       "      <th>sentiment</th>\n",
       "    </tr>\n",
       "  </thead>\n",
       "  <tbody>\n",
       "    <tr>\n",
       "      <th>1</th>\n",
       "      <td>plus you've added commercials to the experienc...</td>\n",
       "      <td>positive</td>\n",
       "    </tr>\n",
       "    <tr>\n",
       "      <th>3</th>\n",
       "      <td>it's really aggressive to blast obnoxious \" en...</td>\n",
       "      <td>negative</td>\n",
       "    </tr>\n",
       "    <tr>\n",
       "      <th>4</th>\n",
       "      <td>and it's a really big bad thing about it</td>\n",
       "      <td>negative</td>\n",
       "    </tr>\n",
       "    <tr>\n",
       "      <th>5</th>\n",
       "      <td>seriously would pay $ 30 a flight for seats th...</td>\n",
       "      <td>negative</td>\n",
       "    </tr>\n",
       "    <tr>\n",
       "      <th>6</th>\n",
       "      <td>yes , nearly every time I fly VX this “ ear wo...</td>\n",
       "      <td>positive</td>\n",
       "    </tr>\n",
       "    <tr>\n",
       "      <th>8</th>\n",
       "      <td>Well , I didn't … but NOW I DO ! :-D</td>\n",
       "      <td>positive</td>\n",
       "    </tr>\n",
       "    <tr>\n",
       "      <th>9</th>\n",
       "      <td>it was amazing , and arrived an hour early . Y...</td>\n",
       "      <td>positive</td>\n",
       "    </tr>\n",
       "    <tr>\n",
       "      <th>11</th>\n",
       "      <td>I &lt;3 pretty graphics . so much better than min...</td>\n",
       "      <td>positive</td>\n",
       "    </tr>\n",
       "    <tr>\n",
       "      <th>12</th>\n",
       "      <td>This is such a great deal ! Already thinking a...</td>\n",
       "      <td>positive</td>\n",
       "    </tr>\n",
       "    <tr>\n",
       "      <th>13</th>\n",
       "      <td>xxhan I'm flying your fabulous Seductive skies...</td>\n",
       "      <td>positive</td>\n",
       "    </tr>\n",
       "  </tbody>\n",
       "</table>\n",
       "</div>"
      ],
      "text/plain": [
       "                                                 text sentiment\n",
       "1   plus you've added commercials to the experienc...  positive\n",
       "3   it's really aggressive to blast obnoxious \" en...  negative\n",
       "4            and it's a really big bad thing about it  negative\n",
       "5   seriously would pay $ 30 a flight for seats th...  negative\n",
       "6   yes , nearly every time I fly VX this “ ear wo...  positive\n",
       "8                Well , I didn't … but NOW I DO ! :-D  positive\n",
       "9   it was amazing , and arrived an hour early . Y...  positive\n",
       "11  I <3 pretty graphics . so much better than min...  positive\n",
       "12  This is such a great deal ! Already thinking a...  positive\n",
       "13  xxhan I'm flying your fabulous Seductive skies...  positive"
      ]
     },
     "execution_count": 6,
     "metadata": {},
     "output_type": "execute_result"
    }
   ],
   "source": [
    "df_labeled.head(10)"
   ]
  },
  {
   "cell_type": "markdown",
   "metadata": {},
   "source": [
    "In order to have reproducible results, I will set a fixed random seed, and set the number of workers to 1, as suggested in the [documentation](https://docs.fast.ai/dev/test.html#getting-reproducible-results)."
   ]
  },
  {
   "cell_type": "code",
   "execution_count": 114,
   "metadata": {},
   "outputs": [],
   "source": [
    "my_utils.set_all_seeds(42)"
   ]
  },
  {
   "cell_type": "markdown",
   "metadata": {},
   "source": [
    "Let's create the DataBunch for the classification task:"
   ]
  },
  {
   "cell_type": "code",
   "execution_count": 115,
   "metadata": {},
   "outputs": [],
   "source": [
    "bs = 48\n",
    "\n",
    "data_lm = load_data(path='data/lm', file='data_lm.pkl')\n",
    "\n",
    "data_clas = (TextList.from_df(df_labeled, cols=['text'], vocab=data_lm.vocab, path=DATA_PATH)\n",
    "           .split_by_rand_pct(valid_pct=0.1, seed=0)\n",
    "           .label_from_df(cols='sentiment')\n",
    "           .databunch(bs=bs, num_workers=1))\n",
    "\n",
    "data_clas.save('data_clas.pkl')"
   ]
  },
  {
   "cell_type": "code",
   "execution_count": 116,
   "metadata": {
    "scrolled": false
   },
   "outputs": [
    {
     "data": {
      "text/html": [
       "<table border=\"1\" class=\"dataframe\">\n",
       "  <thead>\n",
       "    <tr style=\"text-align: right;\">\n",
       "      <th>text</th>\n",
       "      <th>target</th>\n",
       "    </tr>\n",
       "  </thead>\n",
       "  <tbody>\n",
       "    <tr>\n",
       "      <td>xxbos xxmaj the xxmaj fact xxmaj that u xxmaj see xxmaj black xxmaj history xxmaj month 12 xxmaj months a xxmaj year xxmaj is xxmaj xxunk ! xxmaj we xxup will xxup be xxmaj an xxmaj xxunk xxmaj base xxmaj for xxmaj corp . xxmaj like u xxmaj in xxmaj future !</td>\n",
       "      <td>positive</td>\n",
       "    </tr>\n",
       "    <tr>\n",
       "      <td>xxbos xxup xxunk u xxup us xxup airways xxup with xxup yo xxup shitty xxup chicken xxup xxunk xxup xxunk xxup that xxup so xxup xxunk xxup and u xxup xxunk xxup make xxup me xxup wait xxup in a 6 xxup hr xxup layover xxup xxunk u xxup and</td>\n",
       "      <td>negative</td>\n",
       "    </tr>\n",
       "    <tr>\n",
       "      <td>xxbos our ft xxunk xxup xxunk / xxup dfw ( w / cx to xxup lga ) tomorrow xxmaj cancelled xxmaj flighted , 4 hrs so far waiting for call back . xxmaj what should we do ? xxmaj need to get to nyc</td>\n",
       "      <td>negative</td>\n",
       "    </tr>\n",
       "    <tr>\n",
       "      <td>xxbos xxup mia - xxup ewr # xxunk 😄 😄 😄 excellent crew . xxup ewr - xxup iad # xxunk 😡 😡 😡 xxmaj no crew to load bags - waiting w / door open freezing . 20 mins past departure .</td>\n",
       "      <td>negative</td>\n",
       "    </tr>\n",
       "    <tr>\n",
       "      <td>xxbos xxmaj cancelled xxmaj flights flt from xxup ewr . \" xxmaj no crew \" . xxmaj tells wife &amp; 4 yr old to \" get to xxup ny to catch xxhan \" to xxup yyz ! xxmaj good customerservice is dead .</td>\n",
       "      <td>negative</td>\n",
       "    </tr>\n",
       "    <tr>\n",
       "      <td>xxbos xxmaj thanks . xxmaj still booked our trip 3 / xxunk 17 xxup lb to xxup slc to see grand kids . xxmaj just very frustrating . xxmaj tried app , web , etc . xxmaj still love u guys !</td>\n",
       "      <td>positive</td>\n",
       "    </tr>\n",
       "    <tr>\n",
       "      <td>xxbos i know . i ’ m sure you hear it all the time — don ’ t like the new seats . i ’ m a small guy , 5 ’ 6 ” and i feel the new planes are tight</td>\n",
       "      <td>negative</td>\n",
       "    </tr>\n",
       "    <tr>\n",
       "      <td>xxbos file loc : xxup xxunk . xxmaj bag at airport since last xxunk . xxmaj not \" scheduled \" to get xxup xxunk xxunk xxunk 8 ? xxup why ? u xxunk b ashamed . i 'm disgusted w / u</td>\n",
       "      <td>negative</td>\n",
       "    </tr>\n",
       "    <tr>\n",
       "      <td>xxbos xxmaj hi ! xxmaj just got my xxup tsa pre - check # &amp; put it in my acct . xxmaj but it 's not on my boarding pass for a flight this xxunk . xxmaj can it be updated ?</td>\n",
       "      <td>negative</td>\n",
       "    </tr>\n",
       "    <tr>\n",
       "      <td>xxbos xxmaj step 1 : xxmaj cancelled xxmaj flight flight . xxmaj step 2 : xxmaj do n't notify customer . xxmaj step 3 : xxmaj charge them for food while they try to xxunk their wait . xxmaj brilliant .</td>\n",
       "      <td>negative</td>\n",
       "    </tr>\n",
       "  </tbody>\n",
       "</table>"
      ],
      "text/plain": [
       "<IPython.core.display.HTML object>"
      ]
     },
     "metadata": {},
     "output_type": "display_data"
    }
   ],
   "source": [
    "# show a few examples\n",
    "data_clas.show_batch(10)"
   ]
  },
  {
   "cell_type": "markdown",
   "metadata": {},
   "source": [
    "Let's finally create the classifier, that will take the already fine-tuned encoder from the previous part."
   ]
  },
  {
   "cell_type": "code",
   "execution_count": 117,
   "metadata": {},
   "outputs": [],
   "source": [
    "def initialize_text_classifier():\n",
    "    learn = text_classifier_learner(data_clas, AWD_LSTM, drop_mult=0.5, path=DATA_PATH)\n",
    "    # a trick to be able to load from another folder...\n",
    "    learn.path = Path('data/lm')\n",
    "    learn.load_encoder('fine_tuned_enc')\n",
    "    learn.path = Path(DATA_PATH)\n",
    "    return learn"
   ]
  },
  {
   "cell_type": "code",
   "execution_count": 118,
   "metadata": {},
   "outputs": [],
   "source": [
    "learn = initialize_text_classifier()"
   ]
  },
  {
   "cell_type": "code",
   "execution_count": 119,
   "metadata": {},
   "outputs": [
    {
     "data": {
      "text/html": [],
      "text/plain": [
       "<IPython.core.display.HTML object>"
      ]
     },
     "metadata": {},
     "output_type": "display_data"
    },
    {
     "name": "stdout",
     "output_type": "stream",
     "text": [
      "LR Finder is complete, type {learner_name}.recorder.plot() to see the graph.\n"
     ]
    }
   ],
   "source": [
    "learn.lr_find()"
   ]
  },
  {
   "cell_type": "code",
   "execution_count": 120,
   "metadata": {},
   "outputs": [
    {
     "name": "stdout",
     "output_type": "stream",
     "text": [
      "Min numerical gradient: 7.59E-03\n",
      "Min loss divided by 10: 3.02E-02\n"
     ]
    },
    {
     "data": {
      "image/png": "[encoded data removed]",
      "text/plain": [
       "<Figure size 432x288 with 1 Axes>"
      ]
     },
     "metadata": {
      "needs_background": "light"
     },
     "output_type": "display_data"
    }
   ],
   "source": [
    "learn.recorder.plot(suggestion=True)"
   ]
  },
  {
   "cell_type": "code",
   "execution_count": 121,
   "metadata": {},
   "outputs": [
    {
     "data": {
      "text/html": [
       "<table border=\"1\" class=\"dataframe\">\n",
       "  <thead>\n",
       "    <tr style=\"text-align: left;\">\n",
       "      <th>epoch</th>\n",
       "      <th>train_loss</th>\n",
       "      <th>valid_loss</th>\n",
       "      <th>accuracy</th>\n",
       "      <th>time</th>\n",
       "    </tr>\n",
       "  </thead>\n",
       "  <tbody>\n",
       "    <tr>\n",
       "      <td>0</td>\n",
       "      <td>0.313426</td>\n",
       "      <td>0.230667</td>\n",
       "      <td>0.902946</td>\n",
       "      <td>00:06</td>\n",
       "    </tr>\n",
       "  </tbody>\n",
       "</table>"
      ],
      "text/plain": [
       "<IPython.core.display.HTML object>"
      ]
     },
     "metadata": {},
     "output_type": "display_data"
    }
   ],
   "source": [
    "learn.fit_one_cycle(1, 7e-3, moms=(0.8,0.7))"
   ]
  },
  {
   "cell_type": "code",
   "execution_count": 122,
   "metadata": {},
   "outputs": [],
   "source": [
    "learn.save('first')\n",
    "learn.load('first');"
   ]
  },
  {
   "cell_type": "code",
   "execution_count": 123,
   "metadata": {},
   "outputs": [
    {
     "data": {
      "text/html": [
       "<table border=\"1\" class=\"dataframe\">\n",
       "  <thead>\n",
       "    <tr style=\"text-align: left;\">\n",
       "      <th>epoch</th>\n",
       "      <th>train_loss</th>\n",
       "      <th>valid_loss</th>\n",
       "      <th>accuracy</th>\n",
       "      <th>time</th>\n",
       "    </tr>\n",
       "  </thead>\n",
       "  <tbody>\n",
       "    <tr>\n",
       "      <td>0</td>\n",
       "      <td>0.309810</td>\n",
       "      <td>0.170053</td>\n",
       "      <td>0.934142</td>\n",
       "      <td>00:08</td>\n",
       "    </tr>\n",
       "  </tbody>\n",
       "</table>"
      ],
      "text/plain": [
       "<IPython.core.display.HTML object>"
      ]
     },
     "metadata": {},
     "output_type": "display_data"
    }
   ],
   "source": [
    "learn.freeze_to(-2)\n",
    "learn.fit_one_cycle(1, slice(3.5e-3/(2.6**4),3.5e-3), moms=(0.8,0.7))"
   ]
  },
  {
   "cell_type": "code",
   "execution_count": 124,
   "metadata": {},
   "outputs": [],
   "source": [
    "learn.save('second')\n",
    "learn.load('second');"
   ]
  },
  {
   "cell_type": "code",
   "execution_count": 125,
   "metadata": {},
   "outputs": [
    {
     "data": {
      "text/html": [
       "<table border=\"1\" class=\"dataframe\">\n",
       "  <thead>\n",
       "    <tr style=\"text-align: left;\">\n",
       "      <th>epoch</th>\n",
       "      <th>train_loss</th>\n",
       "      <th>valid_loss</th>\n",
       "      <th>accuracy</th>\n",
       "      <th>time</th>\n",
       "    </tr>\n",
       "  </thead>\n",
       "  <tbody>\n",
       "    <tr>\n",
       "      <td>0</td>\n",
       "      <td>0.262643</td>\n",
       "      <td>0.179911</td>\n",
       "      <td>0.935009</td>\n",
       "      <td>00:12</td>\n",
       "    </tr>\n",
       "  </tbody>\n",
       "</table>"
      ],
      "text/plain": [
       "<IPython.core.display.HTML object>"
      ]
     },
     "metadata": {},
     "output_type": "display_data"
    }
   ],
   "source": [
    "learn.freeze_to(-3)\n",
    "learn.fit_one_cycle(1, slice(1.75e-3/(2.6**4),1.75e-3), moms=(0.8,0.7))"
   ]
  },
  {
   "cell_type": "code",
   "execution_count": 126,
   "metadata": {},
   "outputs": [],
   "source": [
    "learn.save('third')\n",
    "learn.load('third');"
   ]
  },
  {
   "cell_type": "code",
   "execution_count": 127,
   "metadata": {},
   "outputs": [
    {
     "data": {
      "text/html": [
       "<table border=\"1\" class=\"dataframe\">\n",
       "  <thead>\n",
       "    <tr style=\"text-align: left;\">\n",
       "      <th>epoch</th>\n",
       "      <th>train_loss</th>\n",
       "      <th>valid_loss</th>\n",
       "      <th>accuracy</th>\n",
       "      <th>time</th>\n",
       "    </tr>\n",
       "  </thead>\n",
       "  <tbody>\n",
       "    <tr>\n",
       "      <td>0</td>\n",
       "      <td>0.221386</td>\n",
       "      <td>0.162954</td>\n",
       "      <td>0.935009</td>\n",
       "      <td>00:18</td>\n",
       "    </tr>\n",
       "    <tr>\n",
       "      <td>1</td>\n",
       "      <td>0.210903</td>\n",
       "      <td>0.158730</td>\n",
       "      <td>0.939341</td>\n",
       "      <td>00:18</td>\n",
       "    </tr>\n",
       "  </tbody>\n",
       "</table>"
      ],
      "text/plain": [
       "<IPython.core.display.HTML object>"
      ]
     },
     "metadata": {},
     "output_type": "display_data"
    }
   ],
   "source": [
    "learn.unfreeze()\n",
    "learn.fit_one_cycle(2, slice(3.5e-4/(2.6**4),3.5e-4), moms=(0.8,0.7))"
   ]
  },
  {
   "cell_type": "markdown",
   "metadata": {},
   "source": [
    "Let's save the final model for quicker future use."
   ]
  },
  {
   "cell_type": "code",
   "execution_count": 128,
   "metadata": {},
   "outputs": [],
   "source": [
    "learn.save('final')"
   ]
  },
  {
   "cell_type": "markdown",
   "metadata": {},
   "source": [
    "## Checking results"
   ]
  },
  {
   "cell_type": "code",
   "execution_count": 129,
   "metadata": {},
   "outputs": [],
   "source": [
    "if learn is None:\n",
    "    learn = initialize_text_classifier()\n",
    "learn.load('final');"
   ]
  },
  {
   "cell_type": "code",
   "execution_count": 130,
   "metadata": {},
   "outputs": [
    {
     "name": "stdout",
     "output_type": "stream",
     "text": [
      "Train score = 0.953511, test score = 0.939341\n"
     ]
    }
   ],
   "source": [
    "score_train = learn.validate(data_clas.train_dl)[1].item()\n",
    "score_test = learn.validate(data_clas.valid_dl)[1].item()\n",
    "\n",
    "print(\"Train score = %f, test score = %f\" % (score_train, score_test))"
   ]
  },
  {
   "cell_type": "markdown",
   "metadata": {},
   "source": [
    "Let's interpret the results some more. We can get the confusion matrix and the \"most confused\" samples:"
   ]
  },
  {
   "cell_type": "code",
   "execution_count": 131,
   "metadata": {},
   "outputs": [],
   "source": [
    "interp = TextClassificationInterpretation.from_learner(learn)"
   ]
  },
  {
   "cell_type": "code",
   "execution_count": 132,
   "metadata": {},
   "outputs": [
    {
     "data": {
      "image/png": "[encoded data removed]",
      "text/plain": [
       "<Figure size 432x288 with 1 Axes>"
      ]
     },
     "metadata": {
      "needs_background": "light"
     },
     "output_type": "display_data"
    }
   ],
   "source": [
    "interp.plot_confusion_matrix()"
   ]
  },
  {
   "cell_type": "code",
   "execution_count": 133,
   "metadata": {
    "scrolled": true
   },
   "outputs": [
    {
     "data": {
      "text/html": [
       "<table border=\"1\" class=\"dataframe\">\n",
       "  <thead>\n",
       "    <tr style=\"text-align: right;\">\n",
       "      <th>Text</th>\n",
       "      <th>Prediction</th>\n",
       "      <th>Actual</th>\n",
       "      <th>Loss</th>\n",
       "      <th>Probability</th>\n",
       "    </tr>\n",
       "  </thead>\n",
       "  <tbody>\n",
       "    <tr>\n",
       "      <td>xxbos last 2 times i checked a bags they were xxunk damaged . xxmaj no one answers the baggage call line for status ? xxunk</td>\n",
       "      <td>negative</td>\n",
       "      <td>negative</td>\n",
       "      <td>4.78</td>\n",
       "      <td>0.99</td>\n",
       "    </tr>\n",
       "    <tr>\n",
       "      <td>xxbos xxmaj its not just xxup phl , at xxup btv today made to deplane because \" it 's xxmaj sunday and we do n't know if maintenance will be available \"</td>\n",
       "      <td>negative</td>\n",
       "      <td>negative</td>\n",
       "      <td>3.54</td>\n",
       "      <td>0.97</td>\n",
       "    </tr>\n",
       "    <tr>\n",
       "      <td>xxbos and btw , the xxhan and xxhan managed on time departures same time same destination - &amp; would n't take away a xxunk old kids bag !</td>\n",
       "      <td>negative</td>\n",
       "      <td>negative</td>\n",
       "      <td>3.42</td>\n",
       "      <td>0.97</td>\n",
       "    </tr>\n",
       "    <tr>\n",
       "      <td>xxbos xxup dfw xxup gate 16 to xxup xxunk agent seriously is beyond incompetent . xxmaj never flying xxup aa again if can be xxunk fail pathetic</td>\n",
       "      <td>negative</td>\n",
       "      <td>negative</td>\n",
       "      <td>3.14</td>\n",
       "      <td>0.96</td>\n",
       "    </tr>\n",
       "    <tr>\n",
       "      <td>xxbos your xxunk game is strong .</td>\n",
       "      <td>negative</td>\n",
       "      <td>negative</td>\n",
       "      <td>3.08</td>\n",
       "      <td>0.95</td>\n",
       "    </tr>\n",
       "  </tbody>\n",
       "</table>"
      ],
      "text/plain": [
       "<IPython.core.display.HTML object>"
      ]
     },
     "metadata": {},
     "output_type": "display_data"
    }
   ],
   "source": [
    "interp.show_top_losses(5)"
   ]
  },
  {
   "cell_type": "markdown",
   "metadata": {},
   "source": [
    "But this is not so informative, so I made a small modification to just show the ones with misclassified labels :-)"
   ]
  },
  {
   "cell_type": "code",
   "execution_count": 134,
   "metadata": {
    "scrolled": true
   },
   "outputs": [
    {
     "data": {
      "text/html": [
       "<table border=\"1\" class=\"dataframe\">\n",
       "  <thead>\n",
       "    <tr style=\"text-align: right;\">\n",
       "      <th>Text</th>\n",
       "      <th>Prediction</th>\n",
       "      <th>Actual</th>\n",
       "      <th>Loss</th>\n",
       "      <th>Probability</th>\n",
       "    </tr>\n",
       "  </thead>\n",
       "  <tbody>\n",
       "    <tr>\n",
       "      <td>xxbos i listed my baggage claim number . xxmaj have them call me , my number is on the ticket . i had to use xxmaj lady xxmaj speed xxmaj stick this morning .</td>\n",
       "      <td>positive</td>\n",
       "      <td>negative</td>\n",
       "      <td>2.92</td>\n",
       "      <td>0.05</td>\n",
       "    </tr>\n",
       "    <tr>\n",
       "      <td>xxbos xxmaj thank you ! ! ! xxmaj this whole crew has xxunk through bad weather and xxunk . xxmaj pilot keeping us well informed . customerservice</td>\n",
       "      <td>negative</td>\n",
       "      <td>positive</td>\n",
       "      <td>2.89</td>\n",
       "      <td>0.06</td>\n",
       "    </tr>\n",
       "    <tr>\n",
       "      <td>xxbos xxhan they did n't address the assult or drinks xxunk on her the drunk passenger had to have a wheelchair to get off plane</td>\n",
       "      <td>positive</td>\n",
       "      <td>negative</td>\n",
       "      <td>1.99</td>\n",
       "      <td>0.14</td>\n",
       "    </tr>\n",
       "    <tr>\n",
       "      <td>xxbos one of my luggage did n't made it onto my flight , hope it really gets here tomorrow , as i was told xxunk 😭</td>\n",
       "      <td>positive</td>\n",
       "      <td>negative</td>\n",
       "      <td>1.50</td>\n",
       "      <td>0.22</td>\n",
       "    </tr>\n",
       "    <tr>\n",
       "      <td>xxbos you guys are killing me . xxurl</td>\n",
       "      <td>positive</td>\n",
       "      <td>negative</td>\n",
       "      <td>1.46</td>\n",
       "      <td>0.23</td>\n",
       "    </tr>\n",
       "  </tbody>\n",
       "</table>"
      ],
      "text/plain": [
       "<IPython.core.display.HTML object>"
      ]
     },
     "metadata": {},
     "output_type": "display_data"
    }
   ],
   "source": [
    "my_utils.show_top_losses_misclassified(interp, 5)"
   ]
  },
  {
   "cell_type": "markdown",
   "metadata": {},
   "source": [
    "Let's show the predicted sentiment of some hand-made inputs:"
   ]
  },
  {
   "cell_type": "code",
   "execution_count": 135,
   "metadata": {},
   "outputs": [
    {
     "name": "stdout",
     "output_type": "stream",
     "text": [
      "-\t0.990\t0.010\tAwful flight\n",
      "+\t0.013\t0.987\tGreat trip, thanks to all\n",
      "-\t0.582\t0.418\tattendant was rude!\n",
      "-\t0.787\t0.213\tI thought I was going to have some great vacations, but everything was ruined by the delay and the rude service. Way, to go @VirginAmerica!\n",
      "+\t0.405\t0.595\tfirst time with you, pretty fair :-) Food was ok\n"
     ]
    }
   ],
   "source": [
    "examples = [\n",
    "    \"Awful flight\",\n",
    "    \"Great trip, thanks to all\",\n",
    "    \"attendant was rude!\",\n",
    "    \"I thought I was going to have some great vacations, but everything was ruined by the delay and the rude service. Way, to go @VirginAmerica!\",\n",
    "    \"first time with you, pretty fair :-) Food was ok\"\n",
    "]\n",
    "\n",
    "for example in examples:\n",
    "    pred = learn.predict(example)\n",
    "    label = pred[1].item()\n",
    "    probs = pred[2].tolist()\n",
    "    print('%s\\t%.3f\\t%.3f\\t%s' % ('-+'[label], probs[0], probs[1], example))"
   ]
  },
  {
   "cell_type": "markdown",
   "metadata": {},
   "source": [
    "Let's see which words of our examples had the greatest contribution in the classification decision:"
   ]
  },
  {
   "cell_type": "code",
   "execution_count": 136,
   "metadata": {
    "scrolled": true
   },
   "outputs": [
    {
     "data": {
      "text/html": [
       "<span style=\"font-family: monospace;\"><span title=\"0.037\" style=\"background-color: rgba(254, 239, 231, 0.5);\">xxbos</span> <span title=\"0.125\" style=\"background-color: rgba(253, 223, 209, 0.5);\">xxmaj</span> <span title=\"1.000\" style=\"background-color: rgba(103, 0, 12, 0.5);\">awful</span> <span title=\"0.388\" style=\"background-color: rgba(251, 141, 109, 0.5);\">flight</span></span>"
      ],
      "text/plain": [
       "<IPython.core.display.HTML object>"
      ]
     },
     "metadata": {},
     "output_type": "display_data"
    },
    {
     "data": {
      "text/html": [
       "<span style=\"font-family: monospace;\"><span title=\"0.046\" style=\"background-color: rgba(254, 237, 229, 0.5);\">xxbos</span> <span title=\"0.143\" style=\"background-color: rgba(253, 219, 203, 0.5);\">xxmaj</span> <span title=\"0.932\" style=\"background-color: rgba(136, 8, 17, 0.5);\">great</span> <span title=\"1.000\" style=\"background-color: rgba(103, 0, 12, 0.5);\">trip</span> <span title=\"0.346\" style=\"background-color: rgba(252, 155, 125, 0.5);\">,</span> <span title=\"0.999\" style=\"background-color: rgba(103, 0, 12, 0.5);\">thanks</span> <span title=\"0.345\" style=\"background-color: rgba(252, 155, 125, 0.5);\">to</span> <span title=\"0.571\" style=\"background-color: rgba(244, 78, 56, 0.5);\">all</span></span>"
      ],
      "text/plain": [
       "<IPython.core.display.HTML object>"
      ]
     },
     "metadata": {},
     "output_type": "display_data"
    },
    {
     "data": {
      "text/html": [
       "<span style=\"font-family: monospace;\"><span title=\"0.096\" style=\"background-color: rgba(254, 229, 217, 0.5);\">xxbos</span> <span title=\"1.000\" style=\"background-color: rgba(103, 0, 12, 0.5);\">attendant</span> <span title=\"0.332\" style=\"background-color: rgba(252, 159, 129, 0.5);\">was</span> <span title=\"0.782\" style=\"background-color: rgba(192, 21, 26, 0.5);\">rude</span> <span title=\"0.462\" style=\"background-color: rgba(251, 117, 85, 0.5);\">!</span></span>"
      ],
      "text/plain": [
       "<IPython.core.display.HTML object>"
      ]
     },
     "metadata": {},
     "output_type": "display_data"
    },
    {
     "data": {
      "text/html": [
       "<span style=\"font-family: monospace;\"><span title=\"0.028\" style=\"background-color: rgba(254, 240, 233, 0.5);\">xxbos</span> <span title=\"0.147\" style=\"background-color: rgba(253, 218, 202, 0.5);\">i</span> <span title=\"0.800\" style=\"background-color: rgba(187, 20, 25, 0.5);\">thought</span> <span title=\"0.210\" style=\"background-color: rgba(252, 199, 177, 0.5);\">i</span> <span title=\"0.188\" style=\"background-color: rgba(252, 205, 185, 0.5);\">was</span> <span title=\"0.344\" style=\"background-color: rgba(252, 155, 125, 0.5);\">going</span> <span title=\"0.157\" style=\"background-color: rgba(253, 214, 197, 0.5);\">to</span> <span title=\"0.264\" style=\"background-color: rgba(252, 182, 156, 0.5);\">have</span> <span title=\"0.462\" style=\"background-color: rgba(251, 117, 85, 0.5);\">some</span> <span title=\"0.642\" style=\"background-color: rgba(233, 53, 41, 0.5);\">great</span> <span title=\"1.000\" style=\"background-color: rgba(103, 0, 12, 0.5);\">vacations</span> <span title=\"0.252\" style=\"background-color: rgba(252, 186, 160, 0.5);\">,</span> <span title=\"0.274\" style=\"background-color: rgba(252, 178, 151, 0.5);\">but</span> <span title=\"0.651\" style=\"background-color: rgba(231, 51, 40, 0.5);\">everything</span> <span title=\"0.306\" style=\"background-color: rgba(252, 168, 139, 0.5);\">was</span> <span title=\"0.898\" style=\"background-color: rgba(153, 12, 19, 0.5);\">ruined</span> <span title=\"0.253\" style=\"background-color: rgba(252, 186, 160, 0.5);\">by</span> <span title=\"0.176\" style=\"background-color: rgba(253, 209, 191, 0.5);\">the</span> <span title=\"0.317\" style=\"background-color: rgba(252, 164, 135, 0.5);\">delay</span> <span title=\"0.197\" style=\"background-color: rgba(252, 202, 182, 0.5);\">and</span> <span title=\"0.243\" style=\"background-color: rgba(252, 189, 163, 0.5);\">the</span> <span title=\"0.842\" style=\"background-color: rgba(174, 17, 23, 0.5);\">rude</span> <span title=\"0.422\" style=\"background-color: rgba(251, 130, 98, 0.5);\">service</span> <span title=\"0.202\" style=\"background-color: rgba(252, 201, 180, 0.5);\">.</span> <span title=\"0.166\" style=\"background-color: rgba(253, 212, 194, 0.5);\">xxmaj</span> <span title=\"0.531\" style=\"background-color: rgba(248, 94, 66, 0.5);\">way</span> <span title=\"0.211\" style=\"background-color: rgba(252, 198, 175, 0.5);\">,</span> <span title=\"0.231\" style=\"background-color: rgba(252, 192, 168, 0.5);\">to</span> <span title=\"0.583\" style=\"background-color: rgba(242, 74, 53, 0.5);\">go</span> <span title=\"0.446\" style=\"background-color: rgba(251, 122, 90, 0.5);\">xxunk</span> <span title=\"0.372\" style=\"background-color: rgba(252, 146, 114, 0.5);\">!</span></span>"
      ],
      "text/plain": [
       "<IPython.core.display.HTML object>"
      ]
     },
     "metadata": {},
     "output_type": "display_data"
    },
    {
     "data": {
      "text/html": [
       "<span style=\"font-family: monospace;\"><span title=\"0.117\" style=\"background-color: rgba(254, 225, 211, 0.5);\">xxbos</span> <span title=\"0.804\" style=\"background-color: rgba(186, 20, 25, 0.5);\">first</span> <span title=\"0.777\" style=\"background-color: rgba(194, 22, 27, 0.5);\">time</span> <span title=\"0.588\" style=\"background-color: rgba(242, 72, 52, 0.5);\">with</span> <span title=\"0.516\" style=\"background-color: rgba(249, 99, 69, 0.5);\">you</span> <span title=\"0.344\" style=\"background-color: rgba(252, 155, 125, 0.5);\">,</span> <span title=\"0.930\" style=\"background-color: rgba(136, 8, 17, 0.5);\">pretty</span> <span title=\"1.000\" style=\"background-color: rgba(103, 0, 12, 0.5);\">fair</span> <span title=\"0.829\" style=\"background-color: rgba(178, 18, 23, 0.5);\">:-)</span> <span title=\"0.272\" style=\"background-color: rgba(252, 180, 153, 0.5);\">xxmaj</span> <span title=\"0.939\" style=\"background-color: rgba(132, 7, 16, 0.5);\">food</span> <span title=\"0.340\" style=\"background-color: rgba(252, 157, 126, 0.5);\">was</span> <span title=\"0.703\" style=\"background-color: rgba(216, 37, 34, 0.5);\">ok</span></span>"
      ],
      "text/plain": [
       "<IPython.core.display.HTML object>"
      ]
     },
     "metadata": {},
     "output_type": "display_data"
    }
   ],
   "source": [
    "import matplotlib.cm as cm\n",
    "\n",
    "for example in examples:\n",
    "    interp.show_intrinsic_attention(example, cmap=cm.Reds)"
   ]
  },
  {
   "cell_type": "markdown",
   "metadata": {},
   "source": [
    "We can do the same with some random training examples:"
   ]
  },
  {
   "cell_type": "code",
   "execution_count": 137,
   "metadata": {},
   "outputs": [
    {
     "data": {
      "text/html": [
       "<span style=\"font-family: monospace;\"><span title=\"0.056\" style=\"background-color: rgba(254, 235, 226, 0.5);\">xxbos</span> <span title=\"0.156\" style=\"background-color: rgba(253, 215, 199, 0.5);\">xxmaj</span> <span title=\"1.000\" style=\"background-color: rgba(103, 0, 12, 0.5);\">thanks</span> <span title=\"0.531\" style=\"background-color: rgba(247, 93, 66, 0.5);\">!</span></span>"
      ],
      "text/plain": [
       "<IPython.core.display.HTML object>"
      ]
     },
     "metadata": {},
     "output_type": "display_data"
    },
    {
     "data": {
      "text/html": [
       "<span style=\"font-family: monospace;\"><span title=\"0.054\" style=\"background-color: rgba(254, 236, 227, 0.5);\">xxbos</span> <span title=\"0.495\" style=\"background-color: rgba(251, 107, 75, 0.5);\">they</span> <span title=\"1.000\" style=\"background-color: rgba(103, 0, 12, 0.5);\">sent</span> <span title=\"0.477\" style=\"background-color: rgba(251, 112, 80, 0.5);\">her</span> <span title=\"0.403\" style=\"background-color: rgba(251, 136, 104, 0.5);\">a</span> <span title=\"0.990\" style=\"background-color: rgba(106, 0, 13, 0.5);\">letter</span> <span title=\"0.263\" style=\"background-color: rgba(252, 182, 156, 0.5);\">and</span> <span title=\"0.514\" style=\"background-color: rgba(249, 100, 70, 0.5);\">said</span> <span title=\"0.346\" style=\"background-color: rgba(252, 155, 125, 0.5);\">they</span> <span title=\"0.368\" style=\"background-color: rgba(252, 148, 116, 0.5);\">would</span> <span title=\"0.905\" style=\"background-color: rgba(149, 11, 19, 0.5);\">talk</span> <span title=\"0.282\" style=\"background-color: rgba(252, 176, 148, 0.5);\">to</span> <span title=\"0.344\" style=\"background-color: rgba(252, 155, 125, 0.5);\">the</span> <span title=\"0.992\" style=\"background-color: rgba(106, 0, 13, 0.5);\">stewardess</span> <span title=\"0.486\" style=\"background-color: rgba(251, 110, 78, 0.5);\">about</span> <span title=\"0.878\" style=\"background-color: rgba(163, 14, 20, 0.5);\">serving</span> <span title=\"0.925\" style=\"background-color: rgba(139, 8, 17, 0.5);\">drunks</span> <span title=\"0.562\" style=\"background-color: rgba(245, 83, 59, 0.5);\">drinks</span> <span title=\"0.490\" style=\"background-color: rgba(251, 109, 77, 0.5);\">how</span> <span title=\"0.438\" style=\"background-color: rgba(251, 125, 93, 0.5);\">does</span> <span title=\"0.316\" style=\"background-color: rgba(252, 166, 137, 0.5);\">that</span> <span title=\"0.601\" style=\"background-color: rgba(241, 68, 50, 0.5);\">help</span></span>"
      ],
      "text/plain": [
       "<IPython.core.display.HTML object>"
      ]
     },
     "metadata": {},
     "output_type": "display_data"
    },
    {
     "data": {
      "text/html": [
       "<span style=\"font-family: monospace;\"><span title=\"0.064\" style=\"background-color: rgba(254, 234, 224, 0.5);\">xxbos</span> <span title=\"0.464\" style=\"background-color: rgba(251, 117, 85, 0.5);\">have</span> <span title=\"0.573\" style=\"background-color: rgba(244, 78, 56, 0.5);\">been</span> <span title=\"0.874\" style=\"background-color: rgba(165, 15, 21, 0.5);\">waiting</span> <span title=\"0.349\" style=\"background-color: rgba(252, 154, 123, 0.5);\">for</span> <span title=\"0.304\" style=\"background-color: rgba(252, 169, 141, 0.5);\">a</span> <span title=\"0.514\" style=\"background-color: rgba(249, 100, 70, 0.5);\">call</span> <span title=\"0.331\" style=\"background-color: rgba(252, 160, 131, 0.5);\">back</span> <span title=\"0.246\" style=\"background-color: rgba(252, 187, 162, 0.5);\">for</span> <span title=\"0.386\" style=\"background-color: rgba(251, 143, 111, 0.5);\">over</span> <span title=\"0.331\" style=\"background-color: rgba(252, 160, 131, 0.5);\">two</span> <span title=\"0.560\" style=\"background-color: rgba(245, 83, 59, 0.5);\">hours</span> <span title=\"1.000\" style=\"background-color: rgba(103, 0, 12, 0.5);\">jan</span> <span title=\"0.265\" style=\"background-color: rgba(252, 182, 156, 0.5);\">to</span> <span title=\"0.543\" style=\"background-color: rgba(246, 89, 63, 0.5);\">die</span> <span title=\"0.436\" style=\"background-color: rgba(251, 126, 94, 0.5);\">tomorrow</span> <span title=\"0.237\" style=\"background-color: rgba(252, 191, 166, 0.5);\">at</span> <span title=\"0.382\" style=\"background-color: rgba(251, 144, 112, 0.5);\">6</span> <span title=\"0.306\" style=\"background-color: rgba(252, 168, 139, 0.5);\">am</span> <span title=\"0.184\" style=\"background-color: rgba(253, 206, 186, 0.5);\">xxmaj</span> <span title=\"0.461\" style=\"background-color: rgba(251, 119, 87, 0.5);\">cancelled</span> <span title=\"0.110\" style=\"background-color: rgba(254, 226, 213, 0.5);\">xxmaj</span> <span title=\"0.416\" style=\"background-color: rgba(251, 132, 100, 0.5);\">flightled</span> <span title=\"0.574\" style=\"background-color: rgba(244, 78, 56, 0.5);\">what</span> <span title=\"0.505\" style=\"background-color: rgba(250, 103, 72, 0.5);\">are</span> <span title=\"0.397\" style=\"background-color: rgba(251, 139, 107, 0.5);\">my</span> <span title=\"0.902\" style=\"background-color: rgba(151, 11, 19, 0.5);\">options</span> <span title=\"0.549\" style=\"background-color: rgba(246, 87, 62, 0.5);\">?</span></span>"
      ],
      "text/plain": [
       "<IPython.core.display.HTML object>"
      ]
     },
     "metadata": {},
     "output_type": "display_data"
    },
    {
     "data": {
      "text/html": [
       "<span style=\"font-family: monospace;\"><span title=\"0.034\" style=\"background-color: rgba(254, 239, 232, 0.5);\">xxbos</span> <span title=\"0.123\" style=\"background-color: rgba(254, 224, 210, 0.5);\">xxmaj</span> <span title=\"0.786\" style=\"background-color: rgba(191, 21, 26, 0.5);\">way</span> <span title=\"0.285\" style=\"background-color: rgba(252, 175, 147, 0.5);\">to</span> <span title=\"1.000\" style=\"background-color: rgba(103, 0, 12, 0.5);\">suck</span> <span title=\"0.296\" style=\"background-color: rgba(252, 172, 144, 0.5);\">at</span> <span title=\"0.355\" style=\"background-color: rgba(252, 151, 120, 0.5);\">customer</span> <span title=\"0.201\" style=\"background-color: rgba(252, 201, 180, 0.5);\">service</span> <span title=\"0.176\" style=\"background-color: rgba(253, 208, 189, 0.5);\">,</span> <span title=\"0.160\" style=\"background-color: rgba(253, 214, 197, 0.5);\">xxmaj</span> <span title=\"0.568\" style=\"background-color: rgba(244, 80, 57, 0.5);\">dallas</span> <span title=\"0.288\" style=\"background-color: rgba(252, 175, 147, 0.5);\">is</span> <span title=\"0.818\" style=\"background-color: rgba(181, 18, 24, 0.5);\">trapped</span> <span title=\"0.188\" style=\"background-color: rgba(252, 205, 185, 0.5);\">in</span> <span title=\"0.223\" style=\"background-color: rgba(252, 194, 171, 0.5);\">an</span> <span title=\"0.469\" style=\"background-color: rgba(251, 116, 84, 0.5);\">ice</span> <span title=\"0.393\" style=\"background-color: rgba(251, 140, 108, 0.5);\">storm</span> <span title=\"0.351\" style=\"background-color: rgba(252, 154, 123, 0.5);\">but</span> <span title=\"0.365\" style=\"background-color: rgba(252, 149, 117, 0.5);\">you</span> <span title=\"0.310\" style=\"background-color: rgba(252, 167, 138, 0.5);\">did</span> <span title=\"0.264\" style=\"background-color: rgba(252, 182, 156, 0.5);\">n&#x27;t</span> <span title=\"0.176\" style=\"background-color: rgba(253, 209, 191, 0.5);\">xxmaj</span> <span title=\"0.349\" style=\"background-color: rgba(252, 154, 123, 0.5);\">cancelled</span> <span title=\"0.099\" style=\"background-color: rgba(254, 228, 216, 0.5);\">xxmaj</span> <span title=\"0.251\" style=\"background-color: rgba(252, 186, 160, 0.5);\">flight</span> <span title=\"0.391\" style=\"background-color: rgba(251, 141, 109, 0.5);\">7</span> <span title=\"0.334\" style=\"background-color: rgba(252, 159, 129, 0.5);\">am</span> <span title=\"0.160\" style=\"background-color: rgba(253, 214, 197, 0.5);\">flight</span> <span title=\"0.158\" style=\"background-color: rgba(253, 214, 197, 0.5);\">&amp;</span> <span title=\"0.267\" style=\"background-color: rgba(252, 181, 154, 0.5);\">been</span> <span title=\"0.174\" style=\"background-color: rgba(253, 209, 191, 0.5);\">on</span> <span title=\"0.419\" style=\"background-color: rgba(251, 131, 99, 0.5);\">hold</span> <span title=\"0.372\" style=\"background-color: rgba(252, 146, 114, 0.5);\">all</span> <span title=\"0.430\" style=\"background-color: rgba(251, 127, 95, 0.5);\">day</span> <span title=\"0.396\" style=\"background-color: rgba(251, 139, 107, 0.5);\">.</span></span>"
      ],
      "text/plain": [
       "<IPython.core.display.HTML object>"
      ]
     },
     "metadata": {},
     "output_type": "display_data"
    },
    {
     "data": {
      "text/html": [
       "<span style=\"font-family: monospace;\"><span title=\"0.085\" style=\"background-color: rgba(254, 231, 220, 0.5);\">xxbos</span> <span title=\"1.000\" style=\"background-color: rgba(103, 0, 12, 0.5);\">platinum</span> <span title=\"0.535\" style=\"background-color: rgba(247, 91, 65, 0.5);\">flyer</span> <span title=\"0.408\" style=\"background-color: rgba(251, 135, 103, 0.5);\">bought</span> <span title=\"0.432\" style=\"background-color: rgba(251, 127, 95, 0.5);\">tkt</span> <span title=\"0.113\" style=\"background-color: rgba(254, 226, 213, 0.5);\">in</span> <span title=\"0.077\" style=\"background-color: rgba(254, 232, 222, 0.5);\">xxup</span> <span title=\"0.295\" style=\"background-color: rgba(252, 172, 144, 0.5);\">aa</span> <span title=\"0.103\" style=\"background-color: rgba(254, 227, 215, 0.5);\">.</span> <span title=\"0.080\" style=\"background-color: rgba(254, 231, 221, 0.5);\">xxmaj</span> <span title=\"0.358\" style=\"background-color: rgba(252, 151, 120, 0.5);\">also</span> <span title=\"0.281\" style=\"background-color: rgba(252, 177, 150, 0.5);\">both</span> <span title=\"0.357\" style=\"background-color: rgba(252, 151, 120, 0.5);\">accounts</span> <span title=\"0.148\" style=\"background-color: rgba(253, 218, 202, 0.5);\">are</span> <span title=\"0.357\" style=\"background-color: rgba(252, 151, 120, 0.5);\">linked</span> <span title=\"0.086\" style=\"background-color: rgba(254, 230, 219, 0.5);\">.</span> <span title=\"0.061\" style=\"background-color: rgba(254, 235, 225, 0.5);\">xxmaj</span> <span title=\"0.152\" style=\"background-color: rgba(253, 216, 200, 0.5);\">so</span> <span title=\"0.125\" style=\"background-color: rgba(254, 224, 210, 0.5);\">xxup</span> <span title=\"0.147\" style=\"background-color: rgba(253, 218, 202, 0.5);\">why</span> <span title=\"0.210\" style=\"background-color: rgba(252, 199, 177, 0.5);\">ca</span> <span title=\"0.146\" style=\"background-color: rgba(253, 218, 202, 0.5);\">n&#x27;t</span> <span title=\"0.139\" style=\"background-color: rgba(253, 220, 205, 0.5);\">i</span> <span title=\"0.258\" style=\"background-color: rgba(252, 185, 159, 0.5);\">check</span> <span title=\"0.123\" style=\"background-color: rgba(254, 224, 210, 0.5);\">in</span> <span title=\"0.129\" style=\"background-color: rgba(253, 222, 208, 0.5);\">for</span> <span title=\"0.178\" style=\"background-color: rgba(253, 208, 189, 0.5);\">flight</span> <span title=\"0.320\" style=\"background-color: rgba(252, 164, 135, 0.5);\">tomorrow</span> <span title=\"0.242\" style=\"background-color: rgba(252, 190, 165, 0.5);\">?</span></span>"
      ],
      "text/plain": [
       "<IPython.core.display.HTML object>"
      ]
     },
     "metadata": {},
     "output_type": "display_data"
    }
   ],
   "source": [
    "df_sample = df_labeled.sample(5)\n",
    "\n",
    "for _, row in df_sample.iterrows():\n",
    "    interp.show_intrinsic_attention(row.text, cmap=cm.Reds)"
   ]
  },
  {
   "cell_type": "markdown",
   "metadata": {},
   "source": [
    "## Putting all together\n",
    "\n",
    "Finally, we can compare with the baseline results:"
   ]
  },
  {
   "cell_type": "code",
   "execution_count": 138,
   "metadata": {},
   "outputs": [],
   "source": [
    "results = {}\n",
    "with open('data/results.pkl', 'rb') as f:\n",
    "    prev_results = pickle.load(f)\n",
    "    results.update(prev_results)\n",
    "\n",
    "results['ulmfit_wt103'] = (score_train, score_test)"
   ]
  },
  {
   "cell_type": "code",
   "execution_count": 139,
   "metadata": {},
   "outputs": [
    {
     "data": {
      "text/html": [
       "<div>\n",
       "<style scoped>\n",
       "    .dataframe tbody tr th:only-of-type {\n",
       "        vertical-align: middle;\n",
       "    }\n",
       "\n",
       "    .dataframe tbody tr th {\n",
       "        vertical-align: top;\n",
       "    }\n",
       "\n",
       "    .dataframe thead th {\n",
       "        text-align: right;\n",
       "    }\n",
       "</style>\n",
       "<table border=\"1\" class=\"dataframe\">\n",
       "  <thead>\n",
       "    <tr style=\"text-align: right;\">\n",
       "      <th></th>\n",
       "      <th>method</th>\n",
       "      <th>score_train</th>\n",
       "      <th>score_test</th>\n",
       "    </tr>\n",
       "  </thead>\n",
       "  <tbody>\n",
       "    <tr>\n",
       "      <th>6</th>\n",
       "      <td>ulmfit_wt103</td>\n",
       "      <td>0.953511</td>\n",
       "      <td>0.939341</td>\n",
       "    </tr>\n",
       "    <tr>\n",
       "      <th>4</th>\n",
       "      <td>SVC_linear_10.0</td>\n",
       "      <td>0.952341</td>\n",
       "      <td>0.910890</td>\n",
       "    </tr>\n",
       "    <tr>\n",
       "      <th>1</th>\n",
       "      <td>nb_multi_counts</td>\n",
       "      <td>0.943482</td>\n",
       "      <td>0.902862</td>\n",
       "    </tr>\n",
       "    <tr>\n",
       "      <th>5</th>\n",
       "      <td>dtree</td>\n",
       "      <td>0.949560</td>\n",
       "      <td>0.876345</td>\n",
       "    </tr>\n",
       "    <tr>\n",
       "      <th>3</th>\n",
       "      <td>nb_gaussian_tf_idf_feature_sel</td>\n",
       "      <td>0.874159</td>\n",
       "      <td>0.811237</td>\n",
       "    </tr>\n",
       "    <tr>\n",
       "      <th>2</th>\n",
       "      <td>nb_gaussian_tf_idf</td>\n",
       "      <td>0.861614</td>\n",
       "      <td>0.712260</td>\n",
       "    </tr>\n",
       "    <tr>\n",
       "      <th>0</th>\n",
       "      <td>random_with_class_dist</td>\n",
       "      <td>0.670719</td>\n",
       "      <td>0.669467</td>\n",
       "    </tr>\n",
       "  </tbody>\n",
       "</table>\n",
       "</div>"
      ],
      "text/plain": [
       "                           method  score_train  score_test\n",
       "6                    ulmfit_wt103     0.953511    0.939341\n",
       "4                 SVC_linear_10.0     0.952341    0.910890\n",
       "1                 nb_multi_counts     0.943482    0.902862\n",
       "5                           dtree     0.949560    0.876345\n",
       "3  nb_gaussian_tf_idf_feature_sel     0.874159    0.811237\n",
       "2              nb_gaussian_tf_idf     0.861614    0.712260\n",
       "0          random_with_class_dist     0.670719    0.669467"
      ]
     },
     "execution_count": 139,
     "metadata": {},
     "output_type": "execute_result"
    }
   ],
   "source": [
    "results_df = pd.DataFrame([(k, *v) for k, v in results.items()], columns=['method', 'score_train', 'score_test'])\n",
    "results_df = results_df.sort_values(by='score_test', ascending=False)\n",
    "results_df"
   ]
  },
  {
   "cell_type": "code",
   "execution_count": 140,
   "metadata": {},
   "outputs": [],
   "source": [
    "with open('data/results2.pkl', 'wb') as f:\n",
    "    pickle.dump(results, f)"
   ]
  }
 ],
 "metadata": {
  "kernelspec": {
   "display_name": "Python 3",
   "language": "python",
   "name": "python3"
  },
  "language_info": {
   "codemirror_mode": {
    "name": "ipython",
    "version": 3
   },
   "file_extension": ".py",
   "mimetype": "text/x-python",
   "name": "python",
   "nbconvert_exporter": "python",
   "pygments_lexer": "ipython3",
   "version": "3.7.0"
  }
 },
 "nbformat": 4,
 "nbformat_minor": 2
}
